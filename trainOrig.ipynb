{
 "cells": [
  {
   "cell_type": "markdown",
   "metadata": {},
   "source": [
    "Notebook for the original dataset loader file"
   ]
  },
  {
   "cell_type": "code",
   "execution_count": 1,
   "metadata": {
    "ExecuteTime": {
     "end_time": "2018-02-03T05:59:03.442742Z",
     "start_time": "2018-02-03T05:59:02.096490Z"
    },
    "collapsed": true
   },
   "outputs": [],
   "source": [
    "import os\n",
    "import torch\n",
    "import torch.nn as nn\n",
    "import torch.optim as optim\n",
    "import torch.backends.cudnn as cudnn\n",
    "import torch.nn.init as init\n",
    "import torchvision\n",
    "import argparse\n",
    "from torch.autograd import Variable\n",
    "import torch.utils.data as data\n",
    "\n",
    "from data import v2, v1, AnnotationTransform, VOCDetection, detection_collate, VOCroot, VOC_CLASSES\n",
    "from data import v2, v1, detection_collate\n",
    "#from data import MSCOCODetection, COCOAnnotationTransform\n",
    "from utils.augmentations import SSDAugmentation\n",
    "from layers.modules import MultiBoxLoss\n",
    "from ssd import build_ssd\n",
    "import numpy as np\n",
    "import time\n",
    "import sys\n",
    "\n",
    "# os.environ[\"CUDA_DEVICE_ORDER\"]=\"PCI_BUS_ID\"   \n",
    "# os.environ[\"CUDA_VISIBLE_DEVICES\"]=\"0\""
   ]
  },
  {
   "cell_type": "code",
   "execution_count": 2,
   "metadata": {
    "ExecuteTime": {
     "end_time": "2018-02-03T05:59:04.513508Z",
     "start_time": "2018-02-03T05:59:04.381735Z"
    },
    "collapsed": true
   },
   "outputs": [],
   "source": [
    "train_sets = [('2007', 'trainval'), ('2012', 'trainval')]\n",
    "# train_sets = 'train'\n",
    "ssd_dim = 300  # only support 300 now\n",
    "means = (104, 117, 123)  # only support voc now\n",
    "num_classes = len(VOC_CLASSES) + 1\n",
    "batch_size = 32\n",
    "accum_batch_size = 32\n",
    "iter_size = accum_batch_size / batch_size\n",
    "max_iter = 120000\n",
    "weight_decay = 0.0005\n",
    "stepvalues = (80000, 100000, 120000)\n",
    "gamma = 0.1\n",
    "momentum = 0.9\n",
    "cuda = True\n",
    "\n",
    "\n",
    "version = \"v2\"\n",
    "basenet = \"vgg16_reducedfc.pth\"\n",
    "jaccard_threshold=0.5\n",
    "start_iter=0\n",
    "lr=1e-3\n",
    "save_folder = \"./weights/\"\n",
    "basenet = \"vgg16_reducedfc.pth\"\n",
    "\n",
    "if cuda and torch.cuda.is_available():\n",
    "    torch.set_default_tensor_type('torch.cuda.FloatTensor')\n",
    "else:\n",
    "    torch.set_default_tensor_type('torch.FloatTensor')\n",
    "\n",
    "cfg = (v1, v2)[version == 'v2']"
   ]
  },
  {
   "cell_type": "code",
   "execution_count": 3,
   "metadata": {
    "ExecuteTime": {
     "end_time": "2018-02-03T05:59:34.275920Z",
     "start_time": "2018-02-03T05:59:34.157495Z"
    },
    "collapsed": true
   },
   "outputs": [],
   "source": [
    "dataset = VOCDetection(VOCroot, train_sets, \n",
    "                           SSDAugmentation(ssd_dim, means),\n",
    "                           AnnotationTransform())"
   ]
  },
  {
   "cell_type": "code",
   "execution_count": 6,
   "metadata": {
    "ExecuteTime": {
     "end_time": "2018-02-03T06:00:22.708873Z",
     "start_time": "2018-02-03T06:00:22.703898Z"
    }
   },
   "outputs": [],
   "source": [
    "data_loader = data.DataLoader(dataset, batch_size, num_workers=0,\n",
    "                             shuffle=True, collate_fn=detection_collate,\n",
    "                             pin_memory=cuda)"
   ]
  },
  {
   "cell_type": "code",
   "execution_count": 7,
   "metadata": {
    "ExecuteTime": {
     "end_time": "2018-02-03T06:00:33.207850Z",
     "start_time": "2018-02-03T06:00:33.204155Z"
    },
    "collapsed": true
   },
   "outputs": [],
   "source": [
    "it = iter(data_loader)"
   ]
  },
  {
   "cell_type": "code",
   "execution_count": 8,
   "metadata": {
    "ExecuteTime": {
     "end_time": "2018-02-03T06:00:46.823643Z",
     "start_time": "2018-02-03T06:00:42.589301Z"
    },
    "collapsed": true
   },
   "outputs": [],
   "source": [
    "img, targets = next(it)"
   ]
  },
  {
   "cell_type": "code",
   "execution_count": 12,
   "metadata": {
    "ExecuteTime": {
     "end_time": "2018-02-03T06:01:09.252060Z",
     "start_time": "2018-02-03T06:01:09.247486Z"
    }
   },
   "outputs": [
    {
     "data": {
      "text/plain": [
       "torch.Size([1, 5])"
      ]
     },
     "execution_count": 12,
     "metadata": {},
     "output_type": "execute_result"
    }
   ],
   "source": [
    "targets[2].size()"
   ]
  },
  {
   "cell_type": "code",
   "execution_count": 3,
   "metadata": {
    "ExecuteTime": {
     "end_time": "2018-01-27T06:16:52.405419Z",
     "start_time": "2018-01-27T06:16:50.688217Z"
    },
    "collapsed": true
   },
   "outputs": [],
   "source": [
    "ssd_net = build_ssd('train', 300, num_classes)\n",
    "net = ssd_net"
   ]
  },
  {
   "cell_type": "code",
   "execution_count": 4,
   "metadata": {
    "ExecuteTime": {
     "end_time": "2018-01-27T06:17:07.016942Z",
     "start_time": "2018-01-27T06:17:07.012693Z"
    },
    "collapsed": true
   },
   "outputs": [],
   "source": [
    "net = torch.nn.DataParallel(ssd_net)\n",
    "cudnn.benchmark = True"
   ]
  },
  {
   "cell_type": "code",
   "execution_count": 5,
   "metadata": {
    "ExecuteTime": {
     "end_time": "2018-01-27T06:17:15.258095Z",
     "start_time": "2018-01-27T06:17:14.356170Z"
    }
   },
   "outputs": [
    {
     "name": "stdout",
     "output_type": "stream",
     "text": [
      "Loading base network...\n"
     ]
    }
   ],
   "source": [
    "vgg_weights = torch.load(save_folder + basenet)\n",
    "print('Loading base network...')\n",
    "ssd_net.vgg.load_state_dict(vgg_weights)\n",
    "\n",
    "if cuda and torch.cuda.is_available():\n",
    "    net = net.cuda()\n",
    "\n",
    "def xavier(param):\n",
    "    init.xavier_uniform(param)\n",
    "\n",
    "\n",
    "def weights_init(m):\n",
    "    if isinstance(m, nn.Conv2d):\n",
    "        xavier(m.weight.data)\n",
    "        m.bias.data.zero_()"
   ]
  },
  {
   "cell_type": "code",
   "execution_count": 6,
   "metadata": {
    "ExecuteTime": {
     "end_time": "2018-01-27T06:17:18.694332Z",
     "start_time": "2018-01-27T06:17:18.686126Z"
    },
    "collapsed": true
   },
   "outputs": [],
   "source": [
    "optimizer = optim.SGD(net.parameters(), lr=lr,\n",
    "                      momentum=momentum, weight_decay=weight_decay)\n",
    "criterion = MultiBoxLoss(num_classes, 0.5, True, 0, True, 3, 0.5, False, cuda)\n"
   ]
  },
  {
   "cell_type": "code",
   "execution_count": 7,
   "metadata": {
    "ExecuteTime": {
     "end_time": "2018-01-27T06:17:21.692032Z",
     "start_time": "2018-01-27T06:17:21.677725Z"
    },
    "code_folding": [
     0
    ],
    "collapsed": true
   },
   "outputs": [],
   "source": [
    "def my_detection_collate(batch):\n",
    "    \"\"\"Custom collate fn for dealing with batches of images that have a different\n",
    "    number of associated object annotations (bounding boxes).\n",
    "\n",
    "    Arguments:\n",
    "        batch: (tuple) A tuple of tensor images and lists of annotations\n",
    "\n",
    "    Return:\n",
    "        A tuple containing:\n",
    "            1) (tensor) batch of images stacked on their 0 dim\n",
    "            2) (list of tensors) annotations for a given image are stacked on 0 dim\n",
    "    \"\"\"\n",
    "    targets_1 = []\n",
    "    imgs = []\n",
    "    print(len(batch))\n",
    "    for sample in batch:\n",
    "        imgs.append(sample[0])\n",
    "        targets_1.append(torch.FloatTensor(sample[1]))\n",
    "    return torch.stack(imgs, 0), targets_1\n"
   ]
  },
  {
   "cell_type": "code",
   "execution_count": 8,
   "metadata": {
    "ExecuteTime": {
     "end_time": "2018-01-27T06:17:22.671679Z",
     "start_time": "2018-01-27T06:17:22.667541Z"
    },
    "collapsed": true
   },
   "outputs": [],
   "source": [
    "\n",
    "# dataset = VOCDetection(VOCroot, train_sets)"
   ]
  },
  {
   "cell_type": "code",
   "execution_count": 9,
   "metadata": {
    "ExecuteTime": {
     "end_time": "2018-01-27T06:17:26.276772Z",
     "start_time": "2018-01-27T06:17:26.157353Z"
    },
    "collapsed": true
   },
   "outputs": [],
   "source": [
    "save_weights = False\n",
    "print_interval = 2\n",
    "\n",
    "def train():\n",
    "    net.train()\n",
    "    # loss counters\n",
    "    loc_loss = 0  # epoch\n",
    "    conf_loss = 0\n",
    "    epoch = 0\n",
    "    print('Loading Dataset...')\n",
    "    \n",
    "    dataset = VOCDetection(VOCroot, train_sets, \n",
    "                           SSDAugmentation(ssd_dim, means),\n",
    "                           AnnotationTransform())\n",
    "    print(\"Dataset Loaded!\")\n",
    "    \n",
    "    epoch_size = len(dataset) // batch_size\n",
    "    print(\"Training SSD on\", dataset.name)\n",
    "    step_index = 0\n",
    "    batch_iterator = None\n",
    "    data_loader = data.DataLoader(dataset, batch_size, num_workers=0,\n",
    "                             shuffle=True, collate_fn=detection_collate,\n",
    "                             pin_memory=cuda)\n",
    "    \n",
    "    for iteration in range(start_iter, max_iter):\n",
    "        if(not batch_iterator) or (iteration % epoch_size == 0):\n",
    "            # create batch_iterator\n",
    "            batch_iterator = iter(data_loader)\n",
    "        if iteration in stepvalues:\n",
    "            step_index += 1\n",
    "            adjust_learning_rate(optimizer, gamma, step_index)\n",
    "            # reset epoch loss counters\n",
    "            loc_loss = 0\n",
    "            conf_loss = 0\n",
    "            epoch += 1\n",
    "        \n",
    "        images, targets = next(batch_iterator)\n",
    "        if cuda:\n",
    "            images = Variable(images.cuda())\n",
    "            targets = [Variable(anno.cuda(), volatile=True) for anno in targets]\n",
    "        else:\n",
    "            images = Variable(images)\n",
    "            targets = [Variable(anno, volatile=True) for anno in targets]\n",
    "        \n",
    "        # forward pass\n",
    "        t0 = time.time()\n",
    "        out = net(images)\n",
    "        \n",
    "        # backprop\n",
    "        optimizer.zero_grad()\n",
    "        loss_l, loss_c = criterion(out, targets)\n",
    "        loss = loss_l + loss_c\n",
    "        loss.backward()\n",
    "        optimizer.step()\n",
    "        t1 = time.time()\n",
    "        loc_loss += loss_l.data[0] # get tensor from Variable\n",
    "        conf_loss += loss_c.data[0]\n",
    "        if iteration % print_interval == 0:\n",
    "            print(\"Timer: %.4f sec. \" % (t1 - t0))\n",
    "            print(\"iter: \"+ repr(iteration) + \"|| Loss: %.4f || \" % (loss.data[0]), end=' ')\n",
    "        if iteration % 2000 == 0 and save_weights:\n",
    "            try:\n",
    "                print(\" Saving state, iter: \", iteration)\n",
    "                torch.save(ssd_net.state_dict(), \"weights/ssd300_VOC07_\" +\n",
    "                          repr(iteration) + \".pth\")\n",
    "            except IOError:\n",
    "                print(\"Some file related eror in saving\")\n",
    "            except:\n",
    "                print(\"Some other error while saving\")\n",
    "    torch.save(ssd_net.state_dict(), save_folder+\"final_model.pth\")"
   ]
  },
  {
   "cell_type": "code",
   "execution_count": 10,
   "metadata": {
    "ExecuteTime": {
     "end_time": "2018-01-27T06:21:00.856306Z",
     "start_time": "2018-01-27T06:17:31.733317Z"
    }
   },
   "outputs": [
    {
     "name": "stdout",
     "output_type": "stream",
     "text": [
      "Loading Dataset...\n",
      "Dataset Loaded!\n",
      "Training SSD on VOC0712\n"
     ]
    },
    {
     "name": "stderr",
     "output_type": "stream",
     "text": [
      "/users/gpu/utkrsh/anaconda3/envs/pytorch/lib/python3.6/site-packages/torch/autograd/_functions/tensor.py:450: UserWarning: mask is not broadcastable to self, but they have the same number of elements.  Falling back to deprecated pointwise behavior.\n",
      "  return tensor.masked_fill_(mask, value)\n"
     ]
    },
    {
     "name": "stdout",
     "output_type": "stream",
     "text": [
      "Timer: 15.1098 sec. \n",
      "iter: 0|| Loss: 19.1433 ||  Timer: 0.1617 sec. \n",
      "iter: 2|| Loss: 16.7160 ||  Timer: 0.1534 sec. \n",
      "iter: 4|| Loss: 15.4030 ||  Timer: 0.1545 sec. \n",
      "iter: 6|| Loss: 15.1084 ||  Timer: 0.1529 sec. \n",
      "iter: 8|| Loss: 15.3910 ||  Timer: 0.1576 sec. \n",
      "iter: 10|| Loss: 15.6563 ||  Timer: 0.1542 sec. \n",
      "iter: 12|| Loss: 15.3834 ||  Timer: 0.1519 sec. \n",
      "iter: 14|| Loss: 15.2503 ||  Timer: 0.1540 sec. \n",
      "iter: 16|| Loss: 15.1467 ||  Timer: 0.1545 sec. \n",
      "iter: 18|| Loss: 14.7455 ||  Timer: 0.1680 sec. \n",
      "iter: 20|| Loss: 14.9030 ||  Timer: 0.1639 sec. \n",
      "iter: 22|| Loss: 14.9024 ||  Timer: 0.1571 sec. \n",
      "iter: 24|| Loss: 14.8545 ||  Timer: 0.1570 sec. \n",
      "iter: 26|| Loss: 14.6721 ||  Timer: 0.1537 sec. \n",
      "iter: 28|| Loss: 14.7718 ||  Timer: 0.1545 sec. \n",
      "iter: 30|| Loss: 14.8269 ||  Timer: 0.1563 sec. \n",
      "iter: 32|| Loss: 14.5173 ||  Timer: 0.1543 sec. \n",
      "iter: 34|| Loss: 14.2355 ||  Timer: 0.1567 sec. \n",
      "iter: 36|| Loss: 14.8015 ||  Timer: 0.1576 sec. \n",
      "iter: 38|| Loss: 14.4792 ||  Timer: 0.1538 sec. \n",
      "iter: 40|| Loss: 14.7739 ||  Timer: 0.1553 sec. \n",
      "iter: 42|| Loss: 14.3683 ||  Timer: 0.1596 sec. \n",
      "iter: 44|| Loss: 14.6447 ||  Timer: 0.1682 sec. \n",
      "iter: 46|| Loss: 14.3748 ||  Timer: 0.1550 sec. \n",
      "iter: 48|| Loss: 14.4272 ||  Timer: 0.1529 sec. \n",
      "iter: 50|| Loss: 14.3723 ||  Timer: 0.1554 sec. \n",
      "iter: 52|| Loss: 14.2953 ||  Timer: 0.1556 sec. \n",
      "iter: 54|| Loss: 14.4787 ||  Timer: 0.1523 sec. \n",
      "iter: 56|| Loss: 14.1985 ||  Timer: 0.1533 sec. \n",
      "iter: 58|| Loss: 14.0268 ||  Timer: 0.1550 sec. \n",
      "iter: 60|| Loss: 14.2728 ||  Timer: 0.1510 sec. \n",
      "iter: 62|| Loss: 14.0709 ||  Timer: 0.1532 sec. \n",
      "iter: 64|| Loss: 13.9590 ||  Timer: 0.1535 sec. \n",
      "iter: 66|| Loss: 13.8276 ||  Timer: 0.1515 sec. \n",
      "iter: 68|| Loss: 13.7632 ||  Timer: 0.1604 sec. \n",
      "iter: 70|| Loss: 13.8536 ||  Timer: 0.1553 sec. \n",
      "iter: 72|| Loss: 13.7155 ||  Timer: 0.1538 sec. \n",
      "iter: 74|| Loss: 13.8489 ||  Timer: 0.1595 sec. \n",
      "iter: 76|| Loss: 13.0102 ||  Timer: 0.1552 sec. \n",
      "iter: 78|| Loss: 13.2422 ||  Timer: 0.1546 sec. \n",
      "iter: 80|| Loss: 13.4231 ||  Timer: 0.1664 sec. \n",
      "iter: 82|| Loss: 12.7877 ||  Timer: 0.1553 sec. \n",
      "iter: 84|| Loss: 11.9724 ||  Timer: 0.1624 sec. \n",
      "iter: 86|| Loss: 12.4912 ||  Timer: 0.1593 sec. \n",
      "iter: 88|| Loss: 11.6452 ||  Timer: 0.1554 sec. \n",
      "iter: 90|| Loss: 11.4045 ||  Timer: 0.1520 sec. \n",
      "iter: 92|| Loss: 11.1384 ||  Timer: 0.1532 sec. \n",
      "iter: 94|| Loss: 10.7021 ||  Timer: 0.1521 sec. \n",
      "iter: 96|| Loss: 10.1325 ||  Timer: 0.1565 sec. \n",
      "iter: 98|| Loss: 9.9832 ||  Timer: 0.1529 sec. \n",
      "iter: 100|| Loss: 9.8214 ||  "
     ]
    },
    {
     "ename": "KeyboardInterrupt",
     "evalue": "",
     "output_type": "error",
     "traceback": [
      "\u001b[0;31m---------------------------------------------------------------------------\u001b[0m",
      "\u001b[0;31mKeyboardInterrupt\u001b[0m                         Traceback (most recent call last)",
      "\u001b[0;32m<ipython-input-10-93fd337a0d5c>\u001b[0m in \u001b[0;36m<module>\u001b[0;34m()\u001b[0m\n\u001b[0;32m----> 1\u001b[0;31m \u001b[0mtrain\u001b[0m\u001b[0;34m(\u001b[0m\u001b[0;34m)\u001b[0m\u001b[0;34m\u001b[0m\u001b[0m\n\u001b[0m",
      "\u001b[0;32m<ipython-input-9-039ef3a4da2b>\u001b[0m in \u001b[0;36mtrain\u001b[0;34m()\u001b[0m\n\u001b[1;32m     35\u001b[0m             \u001b[0mepoch\u001b[0m \u001b[0;34m+=\u001b[0m \u001b[0;36m1\u001b[0m\u001b[0;34m\u001b[0m\u001b[0m\n\u001b[1;32m     36\u001b[0m \u001b[0;34m\u001b[0m\u001b[0m\n\u001b[0;32m---> 37\u001b[0;31m         \u001b[0mimages\u001b[0m\u001b[0;34m,\u001b[0m \u001b[0mtargets\u001b[0m \u001b[0;34m=\u001b[0m \u001b[0mnext\u001b[0m\u001b[0;34m(\u001b[0m\u001b[0mbatch_iterator\u001b[0m\u001b[0;34m)\u001b[0m\u001b[0;34m\u001b[0m\u001b[0m\n\u001b[0m\u001b[1;32m     38\u001b[0m         \u001b[0;32mif\u001b[0m \u001b[0mcuda\u001b[0m\u001b[0;34m:\u001b[0m\u001b[0;34m\u001b[0m\u001b[0m\n\u001b[1;32m     39\u001b[0m             \u001b[0mimages\u001b[0m \u001b[0;34m=\u001b[0m \u001b[0mVariable\u001b[0m\u001b[0;34m(\u001b[0m\u001b[0mimages\u001b[0m\u001b[0;34m.\u001b[0m\u001b[0mcuda\u001b[0m\u001b[0;34m(\u001b[0m\u001b[0;34m)\u001b[0m\u001b[0;34m)\u001b[0m\u001b[0;34m\u001b[0m\u001b[0m\n",
      "\u001b[0;32m~/anaconda3/envs/pytorch/lib/python3.6/site-packages/torch/utils/data/dataloader.py\u001b[0m in \u001b[0;36m__next__\u001b[0;34m(self)\u001b[0m\n\u001b[1;32m    177\u001b[0m         \u001b[0;32mif\u001b[0m \u001b[0mself\u001b[0m\u001b[0;34m.\u001b[0m\u001b[0mnum_workers\u001b[0m \u001b[0;34m==\u001b[0m \u001b[0;36m0\u001b[0m\u001b[0;34m:\u001b[0m  \u001b[0;31m# same-process loading\u001b[0m\u001b[0;34m\u001b[0m\u001b[0m\n\u001b[1;32m    178\u001b[0m             \u001b[0mindices\u001b[0m \u001b[0;34m=\u001b[0m \u001b[0mnext\u001b[0m\u001b[0;34m(\u001b[0m\u001b[0mself\u001b[0m\u001b[0;34m.\u001b[0m\u001b[0msample_iter\u001b[0m\u001b[0;34m)\u001b[0m  \u001b[0;31m# may raise StopIteration\u001b[0m\u001b[0;34m\u001b[0m\u001b[0m\n\u001b[0;32m--> 179\u001b[0;31m             \u001b[0mbatch\u001b[0m \u001b[0;34m=\u001b[0m \u001b[0mself\u001b[0m\u001b[0;34m.\u001b[0m\u001b[0mcollate_fn\u001b[0m\u001b[0;34m(\u001b[0m\u001b[0;34m[\u001b[0m\u001b[0mself\u001b[0m\u001b[0;34m.\u001b[0m\u001b[0mdataset\u001b[0m\u001b[0;34m[\u001b[0m\u001b[0mi\u001b[0m\u001b[0;34m]\u001b[0m \u001b[0;32mfor\u001b[0m \u001b[0mi\u001b[0m \u001b[0;32min\u001b[0m \u001b[0mindices\u001b[0m\u001b[0;34m]\u001b[0m\u001b[0;34m)\u001b[0m\u001b[0;34m\u001b[0m\u001b[0m\n\u001b[0m\u001b[1;32m    180\u001b[0m             \u001b[0;32mif\u001b[0m \u001b[0mself\u001b[0m\u001b[0;34m.\u001b[0m\u001b[0mpin_memory\u001b[0m\u001b[0;34m:\u001b[0m\u001b[0;34m\u001b[0m\u001b[0m\n\u001b[1;32m    181\u001b[0m                 \u001b[0mbatch\u001b[0m \u001b[0;34m=\u001b[0m \u001b[0mpin_memory_batch\u001b[0m\u001b[0;34m(\u001b[0m\u001b[0mbatch\u001b[0m\u001b[0;34m)\u001b[0m\u001b[0;34m\u001b[0m\u001b[0m\n",
      "\u001b[0;32m~/anaconda3/envs/pytorch/lib/python3.6/site-packages/torch/utils/data/dataloader.py\u001b[0m in \u001b[0;36m<listcomp>\u001b[0;34m(.0)\u001b[0m\n\u001b[1;32m    177\u001b[0m         \u001b[0;32mif\u001b[0m \u001b[0mself\u001b[0m\u001b[0;34m.\u001b[0m\u001b[0mnum_workers\u001b[0m \u001b[0;34m==\u001b[0m \u001b[0;36m0\u001b[0m\u001b[0;34m:\u001b[0m  \u001b[0;31m# same-process loading\u001b[0m\u001b[0;34m\u001b[0m\u001b[0m\n\u001b[1;32m    178\u001b[0m             \u001b[0mindices\u001b[0m \u001b[0;34m=\u001b[0m \u001b[0mnext\u001b[0m\u001b[0;34m(\u001b[0m\u001b[0mself\u001b[0m\u001b[0;34m.\u001b[0m\u001b[0msample_iter\u001b[0m\u001b[0;34m)\u001b[0m  \u001b[0;31m# may raise StopIteration\u001b[0m\u001b[0;34m\u001b[0m\u001b[0m\n\u001b[0;32m--> 179\u001b[0;31m             \u001b[0mbatch\u001b[0m \u001b[0;34m=\u001b[0m \u001b[0mself\u001b[0m\u001b[0;34m.\u001b[0m\u001b[0mcollate_fn\u001b[0m\u001b[0;34m(\u001b[0m\u001b[0;34m[\u001b[0m\u001b[0mself\u001b[0m\u001b[0;34m.\u001b[0m\u001b[0mdataset\u001b[0m\u001b[0;34m[\u001b[0m\u001b[0mi\u001b[0m\u001b[0;34m]\u001b[0m \u001b[0;32mfor\u001b[0m \u001b[0mi\u001b[0m \u001b[0;32min\u001b[0m \u001b[0mindices\u001b[0m\u001b[0;34m]\u001b[0m\u001b[0;34m)\u001b[0m\u001b[0;34m\u001b[0m\u001b[0m\n\u001b[0m\u001b[1;32m    180\u001b[0m             \u001b[0;32mif\u001b[0m \u001b[0mself\u001b[0m\u001b[0;34m.\u001b[0m\u001b[0mpin_memory\u001b[0m\u001b[0;34m:\u001b[0m\u001b[0;34m\u001b[0m\u001b[0m\n\u001b[1;32m    181\u001b[0m                 \u001b[0mbatch\u001b[0m \u001b[0;34m=\u001b[0m \u001b[0mpin_memory_batch\u001b[0m\u001b[0;34m(\u001b[0m\u001b[0mbatch\u001b[0m\u001b[0;34m)\u001b[0m\u001b[0;34m\u001b[0m\u001b[0m\n",
      "\u001b[0;32m/new_data/gpu/utkrsh/DomainAdaptation/data/voc0712.py\u001b[0m in \u001b[0;36m__getitem__\u001b[0;34m(self, index)\u001b[0m\n\u001b[1;32m    115\u001b[0m \u001b[0;34m\u001b[0m\u001b[0m\n\u001b[1;32m    116\u001b[0m     \u001b[0;32mdef\u001b[0m \u001b[0m__getitem__\u001b[0m\u001b[0;34m(\u001b[0m\u001b[0mself\u001b[0m\u001b[0;34m,\u001b[0m \u001b[0mindex\u001b[0m\u001b[0;34m)\u001b[0m\u001b[0;34m:\u001b[0m\u001b[0;34m\u001b[0m\u001b[0m\n\u001b[0;32m--> 117\u001b[0;31m         \u001b[0mim\u001b[0m\u001b[0;34m,\u001b[0m \u001b[0mgt\u001b[0m\u001b[0;34m,\u001b[0m \u001b[0mh\u001b[0m\u001b[0;34m,\u001b[0m \u001b[0mw\u001b[0m \u001b[0;34m=\u001b[0m \u001b[0mself\u001b[0m\u001b[0;34m.\u001b[0m\u001b[0mpull_item\u001b[0m\u001b[0;34m(\u001b[0m\u001b[0mindex\u001b[0m\u001b[0;34m)\u001b[0m\u001b[0;34m\u001b[0m\u001b[0m\n\u001b[0m\u001b[1;32m    118\u001b[0m \u001b[0;34m\u001b[0m\u001b[0m\n\u001b[1;32m    119\u001b[0m         \u001b[0;32mreturn\u001b[0m \u001b[0mim\u001b[0m\u001b[0;34m,\u001b[0m \u001b[0mgt\u001b[0m\u001b[0;34m\u001b[0m\u001b[0m\n",
      "\u001b[0;32m/new_data/gpu/utkrsh/DomainAdaptation/data/voc0712.py\u001b[0m in \u001b[0;36mpull_item\u001b[0;34m(self, index)\u001b[0m\n\u001b[1;32m    126\u001b[0m \u001b[0;34m\u001b[0m\u001b[0m\n\u001b[1;32m    127\u001b[0m         \u001b[0mtarget\u001b[0m \u001b[0;34m=\u001b[0m \u001b[0mET\u001b[0m\u001b[0;34m.\u001b[0m\u001b[0mparse\u001b[0m\u001b[0;34m(\u001b[0m\u001b[0mself\u001b[0m\u001b[0;34m.\u001b[0m\u001b[0m_annopath\u001b[0m \u001b[0;34m%\u001b[0m \u001b[0mimg_id\u001b[0m\u001b[0;34m)\u001b[0m\u001b[0;34m.\u001b[0m\u001b[0mgetroot\u001b[0m\u001b[0;34m(\u001b[0m\u001b[0;34m)\u001b[0m\u001b[0;34m\u001b[0m\u001b[0m\n\u001b[0;32m--> 128\u001b[0;31m         \u001b[0mimg\u001b[0m \u001b[0;34m=\u001b[0m \u001b[0mcv2\u001b[0m\u001b[0;34m.\u001b[0m\u001b[0mimread\u001b[0m\u001b[0;34m(\u001b[0m\u001b[0mself\u001b[0m\u001b[0;34m.\u001b[0m\u001b[0m_imgpath\u001b[0m \u001b[0;34m%\u001b[0m \u001b[0mimg_id\u001b[0m\u001b[0;34m)\u001b[0m\u001b[0;34m\u001b[0m\u001b[0m\n\u001b[0m\u001b[1;32m    129\u001b[0m         \u001b[0mheight\u001b[0m\u001b[0;34m,\u001b[0m \u001b[0mwidth\u001b[0m\u001b[0;34m,\u001b[0m \u001b[0mchannels\u001b[0m \u001b[0;34m=\u001b[0m \u001b[0mimg\u001b[0m\u001b[0;34m.\u001b[0m\u001b[0mshape\u001b[0m\u001b[0;34m\u001b[0m\u001b[0m\n\u001b[1;32m    130\u001b[0m \u001b[0;34m\u001b[0m\u001b[0m\n",
      "\u001b[0;31mKeyboardInterrupt\u001b[0m: "
     ]
    }
   ],
   "source": [
    "train()"
   ]
  }
 ],
 "metadata": {
  "kernelspec": {
   "display_name": "Python 3",
   "language": "python",
   "name": "python3"
  },
  "language_info": {
   "codemirror_mode": {
    "name": "ipython",
    "version": 3
   },
   "file_extension": ".py",
   "mimetype": "text/x-python",
   "name": "python",
   "nbconvert_exporter": "python",
   "pygments_lexer": "ipython3",
   "version": "3.6.2"
  }
 },
 "nbformat": 4,
 "nbformat_minor": 2
}
