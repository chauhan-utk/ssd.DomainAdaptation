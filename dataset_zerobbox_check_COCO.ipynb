{
 "cells": [
  {
   "cell_type": "code",
   "execution_count": 1,
   "metadata": {
    "ExecuteTime": {
     "end_time": "2018-01-31T05:26:24.972508Z",
     "start_time": "2018-01-31T05:26:23.428144Z"
    },
    "collapsed": true
   },
   "outputs": [],
   "source": [
    "import os\n",
    "import torch\n",
    "import torch.nn as nn\n",
    "import torch.optim as optim\n",
    "import torch.backends.cudnn as cudnn\n",
    "import torch.nn.init as init\n",
    "import torchvision\n",
    "import argparse\n",
    "from torch.autograd import Variable\n",
    "import torch.utils.data as data\n",
    "\n",
    "#from data import v2, v1, AnnotationTransform, VOCDetection, detection_collate, VOCroot, VOC_CLASSES\n",
    "from data import v2, v1, detection_collate\n",
    "from data import MSCOCODetection, COCOAnnotationTransform\n",
    "from utils.augmentations import SSDAugmentation\n",
    "from layers.modules import MultiBoxLoss\n",
    "from ssd import build_ssd\n",
    "import numpy as np\n",
    "import time\n",
    "import sys\n",
    "\n",
    "#os.environ[\"CUDA_DEVICE_ORDER\"]=\"PCI_BUS_ID\"   \n",
    "#os.environ[\"CUDA_VISIBLE_DEVICES\"]=\"1\"\n",
    "\n",
    "COMMON_CLASSES = ('person', 'bicycle', 'car',\n",
    "                  'bus', 'train', 'boat',\n",
    "                   'bird', 'cat', 'dog',\n",
    "                   'horse', 'sheep', 'cow',\n",
    "                   'bottle', 'chair', 'airplane',\n",
    "                 'dining table', 'potted plant', 'tv',\n",
    "                 'motorcycle', 'couch')\n",
    "\n",
    "#hyperparameters\n",
    "\n",
    "version = \"v2\"\n",
    "basenet = \"vgg16_reducedfc.pth\"\n",
    "jaccard_threshold=0.5\n",
    "lr=1e-5\n",
    "cwd = os.getcwd()\n",
    "save_folder=cwd + \"/MSCOCO14weights/\"\n",
    "\n",
    "voc_root= \"/new_data/gpu/utkrsh/coco/\" # location of the image root directory\n",
    "\n",
    "annFile = \"/new_data/gpu/utkrsh/coco/annotations/instances_train2014.json\"\n",
    "train_img = \"/new_data/gpu/utkrsh/coco/images/train2014/\"\n",
    "\n",
    "cuda=False\n",
    "resume = \"./MSCOCO14weights/ssd300_COCO_8000.pth\" # saved trained weights\n",
    "start_iter=8001\n",
    "\n",
    "if cuda and torch.cuda.is_available():\n",
    "    torch.set_default_tensor_type('torch.cuda.FloatTensor')\n",
    "else:\n",
    "    torch.set_default_tensor_type('torch.FloatTensor')\n",
    "\n",
    "if not os.path.exists(save_folder):\n",
    "    os.mkdir(save_folder)\n",
    "\n",
    "#train_sets = [('2007', 'trainval'), ('2012', 'trainval')]\n",
    "# train_sets = 'train'\n",
    "ssd_dim = 300  # only support 300 now\n",
    "means = (104, 117, 123)  # imagenet mean values\n",
    "num_classes = len(COMMON_CLASSES) + 1\n",
    "batch_size = 32\n",
    "accum_batch_size = 32\n",
    "iter_size = accum_batch_size / batch_size\n",
    "max_iter = 120000\n",
    "weight_decay = 0.0005\n",
    "stepvalues = (10000, 20000, 40000, 80000, 100000, 120000)\n",
    "gamma = 0.1\n",
    "momentum = 0.9"
   ]
  },
  {
   "cell_type": "code",
   "execution_count": 2,
   "metadata": {
    "ExecuteTime": {
     "end_time": "2018-01-31T05:26:37.716779Z",
     "start_time": "2018-01-31T05:26:28.103737Z"
    }
   },
   "outputs": [
    {
     "name": "stdout",
     "output_type": "stream",
     "text": [
      "Loading Dataset...\n",
      "loading annotations into memory...\n",
      "Done (t=9.04s)\n",
      "creating index...\n",
      "index created!\n",
      "Dataset Loaded!\n"
     ]
    }
   ],
   "source": [
    "print('Loading Dataset...')\n",
    "    \n",
    "dataset = MSCOCODetection(image_root=train_img, ann_root=annFile,\n",
    "                          transform=SSDAugmentation(ssd_dim, means), \n",
    "                          target_transform=COCOAnnotationTransform())\n",
    "#dataset = MSCOCODetection(image_root=train_img, ann_root=annFile)\n",
    "print(\"Dataset Loaded!\")\n",
    "\n",
    "data_loader = data.DataLoader(dataset, batch_size, num_workers=0,\n",
    "                             shuffle=True, collate_fn=detection_collate,\n",
    "                             pin_memory=cuda)"
   ]
  },
  {
   "cell_type": "code",
   "execution_count": 3,
   "metadata": {
    "ExecuteTime": {
     "end_time": "2018-01-31T04:40:37.199309Z",
     "start_time": "2018-01-31T04:40:37.195095Z"
    },
    "collapsed": true
   },
   "outputs": [],
   "source": [
    "batch = iter(data_loader)"
   ]
  },
  {
   "cell_type": "code",
   "execution_count": 15,
   "metadata": {
    "ExecuteTime": {
     "end_time": "2018-01-30T06:06:50.713499Z",
     "start_time": "2018-01-30T06:06:48.815551Z"
    },
    "collapsed": true
   },
   "outputs": [],
   "source": [
    "_, targets = next(batch)"
   ]
  },
  {
   "cell_type": "code",
   "execution_count": 17,
   "metadata": {
    "ExecuteTime": {
     "end_time": "2018-01-30T06:06:57.124560Z",
     "start_time": "2018-01-30T06:06:57.118126Z"
    }
   },
   "outputs": [
    {
     "data": {
      "text/plain": [
       "torch.FloatTensor"
      ]
     },
     "execution_count": 17,
     "metadata": {},
     "output_type": "execute_result"
    }
   ],
   "source": [
    "type(targets[0])"
   ]
  },
  {
   "cell_type": "code",
   "execution_count": 19,
   "metadata": {
    "ExecuteTime": {
     "end_time": "2018-01-30T06:07:54.922913Z",
     "start_time": "2018-01-30T06:07:54.915381Z"
    }
   },
   "outputs": [
    {
     "name": "stdout",
     "output_type": "stream",
     "text": [
      "CPU times: user 115 µs, sys: 11 µs, total: 126 µs\n",
      "Wall time: 139 µs\n"
     ]
    }
   ],
   "source": [
    "%time tmp = np.concatenate(list(map(lambda x: x.numpy(), targets)))"
   ]
  },
  {
   "cell_type": "code",
   "execution_count": 23,
   "metadata": {
    "ExecuteTime": {
     "end_time": "2018-01-30T06:08:58.795584Z",
     "start_time": "2018-01-30T06:08:58.787205Z"
    }
   },
   "outputs": [
    {
     "name": "stdout",
     "output_type": "stream",
     "text": [
      "[[  1.14948645e-01   0.00000000e+00   7.07647085e-01   2.97035187e-01\n",
      "    1.80000000e+01]\n",
      " [  9.35011685e-01   4.46646899e-01   9.65901613e-01   5.24569750e-01\n",
      "    2.00000000e+00]\n",
      " [  2.32371137e-01   5.80506325e-02   8.24515462e-01   1.00000000e+00\n",
      "    0.00000000e+00]\n",
      " [  3.54742259e-01   3.59746851e-02   6.48659766e-01   7.67746806e-01\n",
      "    0.00000000e+00]\n",
      " [  0.00000000e+00   6.04405046e-01   3.70618552e-01   6.40101254e-01\n",
      "    1.50000000e+01]\n",
      " [  7.75216520e-01   6.18987344e-02   1.00000000e+00   7.67822802e-01\n",
      "    0.00000000e+00]\n",
      " [  3.58060002e-01   4.40870881e-01   6.71720028e-01   7.35495508e-01\n",
      "    1.10000000e+01]\n",
      " [  1.35279998e-01   4.65855867e-01   3.34179997e-01   6.84414387e-01\n",
      "    1.10000000e+01]\n",
      " [  2.34259993e-01   4.32702690e-01   2.90780008e-01   6.90750778e-01\n",
      "    0.00000000e+00]\n",
      " [  3.00000003e-03   4.94384378e-01   1.94600001e-02   6.89879894e-01\n",
      "    0.00000000e+00]]\n"
     ]
    }
   ],
   "source": [
    "print(tmp[:10,:])"
   ]
  },
  {
   "cell_type": "code",
   "execution_count": 24,
   "metadata": {
    "ExecuteTime": {
     "end_time": "2018-01-30T06:17:18.931798Z",
     "start_time": "2018-01-30T06:17:18.925522Z"
    }
   },
   "outputs": [
    {
     "data": {
      "text/plain": [
       "numpy.float32"
      ]
     },
     "execution_count": 24,
     "metadata": {},
     "output_type": "execute_result"
    }
   ],
   "source": [
    "type(tmp[2][3])"
   ]
  },
  {
   "cell_type": "code",
   "execution_count": 3,
   "metadata": {
    "ExecuteTime": {
     "end_time": "2018-01-31T05:27:18.493791Z",
     "start_time": "2018-01-31T05:27:18.443016Z"
    },
    "collapsed": true
   },
   "outputs": [],
   "source": [
    "def func(dataloader):\n",
    "    batch = iter(data_loader)\n",
    "    MIN, MAX = 100, -10\n",
    "    i=1\n",
    "    # for i in range(10):\n",
    "    try:\n",
    "        while True:\n",
    "            _, targets = next(batch)\n",
    "            # print(type(targets[0]))\n",
    "            tmp = np.concatenate(list(map(lambda x: x.numpy(), targets)))\n",
    "            # print(tmp[:10,:])\n",
    "            xtmp = tmp[:,2]-tmp[:,0]\n",
    "            ytmp = tmp[:,3]-tmp[:,1]\n",
    "            area = xtmp*ytmp\n",
    "            tmin = min(area)\n",
    "            tmax = max(area)\n",
    "            MIN = min(MIN,tmin)\n",
    "            MAX = max(MAX,tmax)\n",
    "            i=i+1\n",
    "            if i % 20 == 0:\n",
    "                print(\"batchs: \",i,\"|| min: \",tmin,\" || max: \",tmax)\n",
    "    except:\n",
    "        print(\"Overall min: \",MIN,\" || max: \",MAX)\n",
    "    finally:\n",
    "        del batch"
   ]
  },
  {
   "cell_type": "code",
   "execution_count": 4,
   "metadata": {
    "ExecuteTime": {
     "end_time": "2018-01-31T06:19:04.975633Z",
     "start_time": "2018-01-31T05:27:23.560770Z"
    }
   },
   "outputs": [
    {
     "name": "stdout",
     "output_type": "stream",
     "text": [
      "batchs:  20 || min:  1.74848e-05  || max:  1.0\n",
      "batchs:  40 || min:  7.29635e-05  || max:  1.0\n",
      "batchs:  60 || min:  0.000147988  || max:  1.0\n",
      "batchs:  80 || min:  2.17252e-05  || max:  1.0\n",
      "batchs:  100 || min:  5.79732e-05  || max:  1.0\n",
      "batchs:  120 || min:  0.000111237  || max:  0.7559\n",
      "batchs:  140 || min:  9.77514e-05  || max:  1.0\n",
      "batchs:  160 || min:  0.000216419  || max:  0.997083\n",
      "batchs:  180 || min:  6.60735e-05  || max:  1.0\n",
      "batchs:  200 || min:  5.43283e-06  || max:  1.0\n",
      "batchs:  220 || min:  2.24901e-05  || max:  1.0\n",
      "batchs:  240 || min:  7.90025e-06  || max:  1.0\n",
      "batchs:  260 || min:  6.38638e-05  || max:  1.0\n",
      "batchs:  280 || min:  2.03464e-05  || max:  1.0\n",
      "batchs:  300 || min:  6.42749e-05  || max:  0.973213\n",
      "batchs:  320 || min:  1.63821e-05  || max:  1.0\n",
      "batchs:  340 || min:  8.87936e-05  || max:  0.985437\n",
      "batchs:  360 || min:  0.000171507  || max:  1.0\n",
      "batchs:  380 || min:  3.89461e-05  || max:  0.849121\n",
      "batchs:  400 || min:  5.11005e-05  || max:  1.0\n",
      "batchs:  420 || min:  9.91915e-05  || max:  1.0\n",
      "batchs:  440 || min:  3.8159e-05  || max:  0.816151\n",
      "batchs:  460 || min:  0.000325051  || max:  1.0\n",
      "batchs:  480 || min:  1.206e-05  || max:  0.994412\n",
      "batchs:  500 || min:  9.11102e-05  || max:  1.0\n",
      "batchs:  520 || min:  1.80229e-05  || max:  1.0\n",
      "batchs:  540 || min:  1.34927e-05  || max:  0.918478\n",
      "batchs:  560 || min:  0.000101771  || max:  1.0\n",
      "batchs:  580 || min:  4.40547e-05  || max:  0.747093\n",
      "batchs:  600 || min:  9.54628e-05  || max:  0.952608\n",
      "batchs:  620 || min:  2.2846e-05  || max:  1.0\n",
      "batchs:  640 || min:  7.67417e-05  || max:  1.0\n",
      "batchs:  660 || min:  2.14525e-05  || max:  1.0\n",
      "batchs:  680 || min:  4.45765e-05  || max:  1.0\n",
      "batchs:  700 || min:  0.000278353  || max:  0.884328\n",
      "batchs:  720 || min:  4.10324e-05  || max:  1.0\n",
      "batchs:  740 || min:  2.4314e-05  || max:  1.0\n",
      "batchs:  760 || min:  4.25029e-05  || max:  1.0\n",
      "batchs:  780 || min:  3.46372e-05  || max:  1.0\n",
      "batchs:  800 || min:  0.000114704  || max:  1.0\n",
      "batchs:  820 || min:  0.00010452  || max:  1.0\n",
      "batchs:  840 || min:  9.57015e-05  || max:  1.0\n",
      "batchs:  860 || min:  0.000102224  || max:  1.0\n",
      "batchs:  880 || min:  0.000203824  || max:  1.0\n",
      "batchs:  900 || min:  8.00717e-05  || max:  0.989176\n",
      "batchs:  920 || min:  3.46229e-05  || max:  1.0\n",
      "batchs:  940 || min:  0.000160064  || max:  1.0\n",
      "batchs:  960 || min:  1.61847e-05  || max:  1.0\n",
      "batchs:  980 || min:  3.18791e-05  || max:  1.0\n",
      "batchs:  1000 || min:  7.73337e-05  || max:  1.0\n",
      "batchs:  1020 || min:  6.01936e-05  || max:  1.0\n",
      "batchs:  1040 || min:  4.06175e-06  || max:  1.0\n",
      "batchs:  1060 || min:  0.00011161  || max:  1.0\n",
      "batchs:  1080 || min:  4.60213e-05  || max:  1.0\n",
      "batchs:  1100 || min:  1.50332e-05  || max:  0.882564\n",
      "batchs:  1120 || min:  0.000239117  || max:  1.0\n",
      "batchs:  1140 || min:  0.000146131  || max:  1.0\n",
      "batchs:  1160 || min:  4.46789e-05  || max:  1.0\n",
      "batchs:  1180 || min:  9.10983e-06  || max:  1.0\n",
      "batchs:  1200 || min:  3.57758e-05  || max:  1.0\n",
      "batchs:  1220 || min:  6.76268e-05  || max:  1.0\n",
      "batchs:  1240 || min:  2.81536e-05  || max:  1.0\n",
      "batchs:  1260 || min:  0.000139286  || max:  0.9394\n",
      "batchs:  1280 || min:  4.43225e-05  || max:  0.650164\n",
      "batchs:  1300 || min:  5.45712e-05  || max:  1.0\n",
      "batchs:  1320 || min:  0.000162071  || max:  0.661493\n",
      "batchs:  1340 || min:  4.11313e-05  || max:  1.0\n",
      "batchs:  1360 || min:  0.000278381  || max:  1.0\n",
      "batchs:  1380 || min:  0.000108715  || max:  1.0\n",
      "batchs:  1400 || min:  3.04954e-05  || max:  1.0\n",
      "batchs:  1420 || min:  1.01151e-05  || max:  0.984857\n",
      "batchs:  1440 || min:  9.8562e-05  || max:  0.900458\n",
      "batchs:  1460 || min:  0.000123402  || max:  1.0\n",
      "batchs:  1480 || min:  3.07121e-05  || max:  1.0\n",
      "batchs:  1500 || min:  0.00015084  || max:  1.0\n",
      "batchs:  1520 || min:  0.00010946  || max:  1.0\n",
      "batchs:  1540 || min:  2.76166e-05  || max:  0.956878\n",
      "batchs:  1560 || min:  4.91217e-05  || max:  1.0\n",
      "batchs:  1580 || min:  3.71368e-05  || max:  0.633721\n",
      "batchs:  1600 || min:  2.37681e-05  || max:  1.0\n",
      "batchs:  1620 || min:  0.000278741  || max:  1.0\n",
      "batchs:  1640 || min:  0.000288631  || max:  1.0\n",
      "batchs:  1660 || min:  9.03281e-05  || max:  1.0\n",
      "batchs:  1680 || min:  8.92939e-05  || max:  0.987273\n",
      "batchs:  1700 || min:  9.33412e-05  || max:  1.0\n",
      "batchs:  1720 || min:  0.000119868  || max:  0.874644\n",
      "batchs:  1740 || min:  9.11715e-05  || max:  1.0\n",
      "batchs:  1760 || min:  0.000104725  || max:  0.89854\n",
      "batchs:  1780 || min:  5.92819e-05  || max:  1.0\n",
      "batchs:  1800 || min:  8.50387e-05  || max:  0.993738\n",
      "batchs:  1820 || min:  9.8398e-05  || max:  1.0\n",
      "batchs:  1840 || min:  1.02967e-05  || max:  0.935388\n",
      "batchs:  1860 || min:  7.08339e-05  || max:  0.846256\n",
      "batchs:  1880 || min:  8.17299e-05  || max:  1.0\n",
      "batchs:  1900 || min:  7.5035e-05  || max:  1.0\n",
      "batchs:  1920 || min:  2.01599e-05  || max:  1.0\n",
      "batchs:  1940 || min:  2.26344e-05  || max:  0.995518\n",
      "batchs:  1960 || min:  4.94035e-05  || max:  0.909399\n",
      "batchs:  1980 || min:  5.02022e-05  || max:  1.0\n",
      "batchs:  2000 || min:  5.40845e-05  || max:  1.0\n",
      "batchs:  2020 || min:  5.22717e-05  || max:  1.0\n",
      "batchs:  2040 || min:  2.3041e-05  || max:  1.0\n",
      "batchs:  2060 || min:  3.79842e-05  || max:  1.0\n",
      "batchs:  2080 || min:  3.14636e-05  || max:  1.0\n",
      "Overall min:  0.0  || max:  1.0\n"
     ]
    }
   ],
   "source": [
    "func(data_loader)"
   ]
  }
 ],
 "metadata": {
  "kernelspec": {
   "display_name": "Python 3",
   "language": "python",
   "name": "python3"
  },
  "language_info": {
   "codemirror_mode": {
    "name": "ipython",
    "version": 3
   },
   "file_extension": ".py",
   "mimetype": "text/x-python",
   "name": "python",
   "nbconvert_exporter": "python",
   "pygments_lexer": "ipython3",
   "version": "3.6.2"
  }
 },
 "nbformat": 4,
 "nbformat_minor": 2
}
