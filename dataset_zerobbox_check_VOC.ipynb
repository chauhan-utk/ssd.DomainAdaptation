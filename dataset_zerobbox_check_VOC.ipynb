{
 "cells": [
  {
   "cell_type": "code",
   "execution_count": 1,
   "metadata": {
    "ExecuteTime": {
     "end_time": "2018-01-30T10:42:16.459430Z",
     "start_time": "2018-01-30T10:42:14.539346Z"
    },
    "collapsed": true
   },
   "outputs": [],
   "source": [
    "import os\n",
    "import torch\n",
    "import torch.nn as nn\n",
    "import torch.optim as optim\n",
    "import torch.backends.cudnn as cudnn\n",
    "import torch.nn.init as init\n",
    "import torchvision\n",
    "import argparse\n",
    "from torch.autograd import Variable\n",
    "import torch.utils.data as data\n",
    "\n",
    "from data import v2, v1, AnnotationTransform, VOCDetection, detection_collate, VOCroot, VOC_CLASSES\n",
    "from data import v2, v1, detection_collate\n",
    "#from data import MSCOCODetection, COCOAnnotationTransform\n",
    "from utils.augmentations import SSDAugmentation\n",
    "from layers.modules import MultiBoxLoss\n",
    "from ssd import build_ssd\n",
    "import numpy as np\n",
    "import time\n",
    "import sys\n",
    "\n",
    "# os.environ[\"CUDA_DEVICE_ORDER\"]=\"PCI_BUS_ID\"   \n",
    "# os.environ[\"CUDA_VISIBLE_DEVICES\"]=\"0\""
   ]
  },
  {
   "cell_type": "code",
   "execution_count": 2,
   "metadata": {
    "ExecuteTime": {
     "end_time": "2018-01-30T10:42:16.492818Z",
     "start_time": "2018-01-30T10:42:16.462884Z"
    },
    "collapsed": true
   },
   "outputs": [],
   "source": [
    "train_sets = [('2007', 'trainval'), ('2012', 'trainval')]\n",
    "# train_sets = 'train'\n",
    "ssd_dim = 300  # only support 300 now\n",
    "means = (104, 117, 123)  # only support voc now\n",
    "num_classes = len(VOC_CLASSES) + 1\n",
    "batch_size = 1\n",
    "accum_batch_size = 1\n",
    "iter_size = accum_batch_size / batch_size\n",
    "max_iter = 120000\n",
    "weight_decay = 0.0005\n",
    "stepvalues = (80000, 100000, 120000)\n",
    "gamma = 0.1\n",
    "momentum = 0.9\n",
    "cuda = False\n",
    "\n",
    "\n",
    "version = \"v2\"\n",
    "basenet = \"vgg16_reducedfc.pth\"\n",
    "jaccard_threshold=0.5\n",
    "start_iter=0\n",
    "lr=1e-3\n",
    "save_folder = \"./weights/\"\n",
    "basenet = \"vgg16_reducedfc.pth\"\n",
    "\n",
    "if cuda and torch.cuda.is_available():\n",
    "    torch.set_default_tensor_type('torch.cuda.FloatTensor')\n",
    "else:\n",
    "    torch.set_default_tensor_type('torch.FloatTensor')\n",
    "\n",
    "cfg = (v1, v2)[version == 'v2']"
   ]
  },
  {
   "cell_type": "code",
   "execution_count": 3,
   "metadata": {
    "ExecuteTime": {
     "end_time": "2018-01-30T10:42:16.881937Z",
     "start_time": "2018-01-30T10:42:16.494253Z"
    }
   },
   "outputs": [
    {
     "name": "stdout",
     "output_type": "stream",
     "text": [
      "Loading Dataset...\n",
      "Dataset Loaded!\n"
     ]
    }
   ],
   "source": [
    "print('Loading Dataset...')\n",
    "\n",
    "dataset = VOCDetection(VOCroot, train_sets,\n",
    "                       SSDAugmentation(ssd_dim, means),\n",
    "                       AnnotationTransform())\n",
    "print(\"Dataset Loaded!\")\n",
    "\n",
    "data_loader = data.DataLoader(dataset, batch_size, num_workers=0,\n",
    "                             shuffle=True, collate_fn=detection_collate,\n",
    "                             pin_memory=cuda)"
   ]
  },
  {
   "cell_type": "code",
   "execution_count": 4,
   "metadata": {
    "ExecuteTime": {
     "end_time": "2018-01-30T10:42:17.673062Z",
     "start_time": "2018-01-30T10:42:16.883723Z"
    }
   },
   "outputs": [
    {
     "name": "stdout",
     "output_type": "stream",
     "text": [
      "<class 'torch.FloatTensor'>\n",
      "CPU times: user 32 µs, sys: 11 µs, total: 43 µs\n",
      "Wall time: 51.3 µs\n",
      "[[  0.1572327    0.           0.77672958   1.          14.        ]]\n"
     ]
    }
   ],
   "source": [
    "batch = iter(data_loader)\n",
    "_, targets = next(batch)\n",
    "print(type(targets[0]))\n",
    "%time tmp = np.concatenate(list(map(lambda x: x.numpy(), targets)))\n",
    "print(tmp[:10,:])"
   ]
  },
  {
   "cell_type": "code",
   "execution_count": 5,
   "metadata": {
    "ExecuteTime": {
     "end_time": "2018-01-30T10:42:17.808358Z",
     "start_time": "2018-01-30T10:42:17.674841Z"
    }
   },
   "outputs": [
    {
     "ename": "IndexError",
     "evalue": "index 2 is out of bounds for axis 0 with size 1",
     "output_type": "error",
     "traceback": [
      "\u001b[0;31m---------------------------------------------------------------------------\u001b[0m",
      "\u001b[0;31mIndexError\u001b[0m                                Traceback (most recent call last)",
      "\u001b[0;32m<ipython-input-5-39122aa23abc>\u001b[0m in \u001b[0;36m<module>\u001b[0;34m()\u001b[0m\n\u001b[0;32m----> 1\u001b[0;31m \u001b[0mtype\u001b[0m\u001b[0;34m(\u001b[0m\u001b[0mtmp\u001b[0m\u001b[0;34m[\u001b[0m\u001b[0;36m2\u001b[0m\u001b[0;34m]\u001b[0m\u001b[0;34m[\u001b[0m\u001b[0;36m3\u001b[0m\u001b[0;34m]\u001b[0m\u001b[0;34m)\u001b[0m\u001b[0;34m\u001b[0m\u001b[0m\n\u001b[0m",
      "\u001b[0;31mIndexError\u001b[0m: index 2 is out of bounds for axis 0 with size 1"
     ]
    }
   ],
   "source": [
    "type(tmp[2][3])"
   ]
  },
  {
   "cell_type": "code",
   "execution_count": null,
   "metadata": {
    "ExecuteTime": {
     "end_time": "2018-01-30T10:42:17.808967Z",
     "start_time": "2018-01-30T10:42:00.419Z"
    }
   },
   "outputs": [],
   "source": [
    "xtmp = tmp[:,2]-tmp[:,0]\n",
    "ytmp = tmp[:,3]-tmp[:,1]\n",
    "area = xtmp*ytmp\n",
    "print(min(area),\" \",max(area))"
   ]
  },
  {
   "cell_type": "code",
   "execution_count": 6,
   "metadata": {
    "ExecuteTime": {
     "end_time": "2018-01-30T10:42:29.620413Z",
     "start_time": "2018-01-30T10:42:29.591814Z"
    },
    "collapsed": true
   },
   "outputs": [],
   "source": [
    "def func(dataloader):\n",
    "    batch = iter(data_loader)\n",
    "    MIN, MAX = 100, -10\n",
    "    i=1\n",
    "    # for i in range(10):\n",
    "    try:\n",
    "        while True:\n",
    "            _, targets = next(batch)\n",
    "            # print(type(targets[0]))\n",
    "            tmp = np.concatenate(list(map(lambda x: x.numpy(), targets)))\n",
    "            # print(tmp[:10,:])\n",
    "            xtmp = tmp[:,2]-tmp[:,0]\n",
    "            ytmp = tmp[:,3]-tmp[:,1]\n",
    "            area = xtmp*ytmp\n",
    "            tmin = min(area)\n",
    "            tmax = max(area)\n",
    "            MIN = min(MIN,tmin)\n",
    "            MAX = max(MAX,tmax)\n",
    "            i=i+1\n",
    "            if i % 100 == 0:\n",
    "                print(\"batch: \",i,\"|| min: \",tmin,\" || max: \",tmax)\n",
    "    except:\n",
    "        print(\"Overall min: \",MIN,\" || max: \",MAX)\n",
    "    finally:\n",
    "        del batch"
   ]
  },
  {
   "cell_type": "code",
   "execution_count": 7,
   "metadata": {
    "ExecuteTime": {
     "end_time": "2018-01-30T10:42:31.146875Z",
     "start_time": "2018-01-30T10:42:31.141268Z"
    }
   },
   "outputs": [
    {
     "name": "stdout",
     "output_type": "stream",
     "text": [
      "16551\n"
     ]
    }
   ],
   "source": [
    "print(len(dataset))"
   ]
  },
  {
   "cell_type": "code",
   "execution_count": 8,
   "metadata": {
    "ExecuteTime": {
     "end_time": "2018-01-30T10:42:32.752746Z",
     "start_time": "2018-01-30T10:42:32.743692Z"
    }
   },
   "outputs": [
    {
     "ename": "SyntaxError",
     "evalue": "unexpected EOF while parsing (<ipython-input-8-99a4bf559385>, line 5)",
     "output_type": "error",
     "traceback": [
      "\u001b[0;36m  File \u001b[0;32m\"<ipython-input-8-99a4bf559385>\"\u001b[0;36m, line \u001b[0;32m5\u001b[0m\n\u001b[0;31m    \u001b[0m\n\u001b[0m    ^\u001b[0m\n\u001b[0;31mSyntaxError\u001b[0m\u001b[0;31m:\u001b[0m unexpected EOF while parsing\n"
     ]
    }
   ],
   "source": [
    "def func1(dataloader):\n",
    "    batch = iter(data_loader)\n",
    "    MIN, MAX = 100, -10\n",
    "    for img, targets in batch:\n",
    "        "
   ]
  },
  {
   "cell_type": "code",
   "execution_count": 9,
   "metadata": {
    "ExecuteTime": {
     "end_time": "2018-01-30T10:49:37.484938Z",
     "start_time": "2018-01-30T10:42:36.647007Z"
    },
    "scrolled": true
   },
   "outputs": [
    {
     "name": "stdout",
     "output_type": "stream",
     "text": [
      "batch:  100 || min:  0.026496  || max:  0.151557\n",
      "batch:  200 || min:  1.0  || max:  1.0\n",
      "batch:  300 || min:  0.509697  || max:  0.760797\n",
      "batch:  400 || min:  0.180376  || max:  0.458649\n",
      "batch:  500 || min:  0.168842  || max:  0.561155\n",
      "batch:  600 || min:  0.463299  || max:  0.463299\n",
      "batch:  700 || min:  0.326531  || max:  0.326531\n",
      "batch:  800 || min:  0.129805  || max:  0.129805\n",
      "batch:  900 || min:  0.477778  || max:  0.477778\n",
      "batch:  1000 || min:  0.0551036  || max:  0.0551036\n",
      "batch:  1100 || min:  1.0  || max:  1.0\n",
      "batch:  1200 || min:  0.0981079  || max:  0.0981079\n",
      "batch:  1300 || min:  0.927882  || max:  0.927882\n",
      "batch:  1400 || min:  0.563535  || max:  0.563535\n",
      "batch:  1500 || min:  0.00266407  || max:  0.232779\n",
      "batch:  1600 || min:  0.0389065  || max:  0.300818\n",
      "batch:  1700 || min:  0.00508802  || max:  0.00848824\n",
      "batch:  1800 || min:  0.275544  || max:  0.449502\n",
      "batch:  1900 || min:  0.0155846  || max:  0.0332719\n",
      "batch:  2000 || min:  0.000720605  || max:  0.0521747\n",
      "batch:  2100 || min:  0.0197969  || max:  0.0197969\n",
      "batch:  2200 || min:  0.637081  || max:  0.637081\n",
      "batch:  2300 || min:  0.304472  || max:  0.304472\n",
      "batch:  2400 || min:  0.022874  || max:  0.209828\n",
      "batch:  2500 || min:  0.363474  || max:  0.363474\n",
      "batch:  2600 || min:  1.0  || max:  1.0\n",
      "batch:  2700 || min:  0.00351975  || max:  0.00351975\n",
      "batch:  2800 || min:  0.118224  || max:  0.434093\n",
      "batch:  2900 || min:  0.0792857  || max:  0.0792857\n",
      "batch:  3000 || min:  0.497444  || max:  0.497444\n",
      "batch:  3100 || min:  0.0338701  || max:  0.0338701\n",
      "batch:  3200 || min:  0.934783  || max:  0.934783\n",
      "batch:  3300 || min:  0.0961922  || max:  0.310048\n",
      "batch:  3400 || min:  0.0922787  || max:  0.1532\n",
      "batch:  3500 || min:  0.0130686  || max:  0.0152212\n",
      "batch:  3600 || min:  1.0  || max:  1.0\n",
      "batch:  3700 || min:  0.443601  || max:  0.443601\n",
      "batch:  3800 || min:  0.940653  || max:  0.940653\n",
      "batch:  3900 || min:  0.887719  || max:  0.887719\n",
      "batch:  4000 || min:  0.0269375  || max:  0.552303\n",
      "batch:  4100 || min:  0.0195379  || max:  0.361726\n",
      "batch:  4200 || min:  0.746537  || max:  0.746537\n",
      "batch:  4300 || min:  0.281427  || max:  0.731085\n",
      "batch:  4400 || min:  0.567273  || max:  0.567273\n",
      "batch:  4500 || min:  0.0594917  || max:  0.0903059\n",
      "batch:  4600 || min:  0.266089  || max:  0.344993\n",
      "batch:  4700 || min:  0.00319737  || max:  0.0744177\n",
      "batch:  4800 || min:  0.456191  || max:  0.456191\n",
      "batch:  4900 || min:  0.0302904  || max:  0.231032\n",
      "batch:  5000 || min:  0.133156  || max:  0.133156\n",
      "batch:  5100 || min:  0.0370671  || max:  0.0547587\n",
      "batch:  5200 || min:  0.1802  || max:  0.1802\n",
      "batch:  5300 || min:  0.0327298  || max:  0.472853\n",
      "batch:  5400 || min:  0.216491  || max:  0.216491\n",
      "batch:  5500 || min:  0.100745  || max:  0.100745\n",
      "batch:  5600 || min:  0.00469952  || max:  0.0257546\n",
      "batch:  5700 || min:  0.256034  || max:  0.429412\n",
      "batch:  5800 || min:  0.00251297  || max:  0.0730729\n",
      "batch:  5900 || min:  0.582981  || max:  0.582981\n",
      "batch:  6000 || min:  0.327137  || max:  0.327137\n",
      "batch:  6100 || min:  0.476373  || max:  0.476373\n",
      "batch:  6200 || min:  0.129483  || max:  0.399445\n",
      "batch:  6300 || min:  0.202324  || max:  0.372372\n",
      "batch:  6400 || min:  0.0383659  || max:  0.0383659\n",
      "batch:  6500 || min:  0.00850219  || max:  0.0126172\n",
      "batch:  6600 || min:  0.127944  || max:  0.162415\n",
      "batch:  6700 || min:  0.00376896  || max:  0.00376896\n",
      "batch:  6800 || min:  0.00216176  || max:  0.0332828\n",
      "batch:  6900 || min:  0.456639  || max:  0.456639\n",
      "batch:  7000 || min:  0.00215891  || max:  0.0027661\n",
      "batch:  7100 || min:  0.900306  || max:  0.900306\n",
      "batch:  7200 || min:  0.000685733  || max:  0.0681027\n",
      "batch:  7300 || min:  0.0380065  || max:  0.0407248\n",
      "batch:  7400 || min:  0.0376016  || max:  0.483689\n",
      "batch:  7500 || min:  0.859649  || max:  0.859649\n",
      "batch:  7600 || min:  0.351318  || max:  0.457275\n",
      "batch:  7700 || min:  0.356286  || max:  0.356286\n",
      "batch:  7800 || min:  0.0785903  || max:  0.0785903\n",
      "batch:  7900 || min:  0.044635  || max:  0.066126\n",
      "batch:  8000 || min:  1.0  || max:  1.0\n",
      "batch:  8100 || min:  0.272337  || max:  0.272337\n",
      "batch:  8200 || min:  0.0966295  || max:  0.0966295\n",
      "batch:  8300 || min:  0.517329  || max:  0.517329\n",
      "batch:  8400 || min:  0.152795  || max:  0.466443\n",
      "batch:  8500 || min:  0.259644  || max:  0.259644\n",
      "batch:  8600 || min:  0.011854  || max:  0.0313798\n",
      "batch:  8700 || min:  0.079299  || max:  0.079299\n",
      "batch:  8800 || min:  0.0795518  || max:  0.164797\n",
      "batch:  8900 || min:  0.0314596  || max:  0.763359\n",
      "batch:  9000 || min:  0.0411719  || max:  0.0411719\n",
      "batch:  9100 || min:  1.0  || max:  1.0\n",
      "batch:  9200 || min:  0.00838657  || max:  0.723775\n",
      "batch:  9300 || min:  0.000703038  || max:  0.00978172\n",
      "batch:  9400 || min:  0.211502  || max:  0.211502\n",
      "batch:  9500 || min:  1.0  || max:  1.0\n",
      "batch:  9600 || min:  0.219074  || max:  0.219074\n",
      "batch:  9700 || min:  0.156998  || max:  0.156998\n",
      "batch:  9800 || min:  0.498784  || max:  0.498784\n",
      "batch:  9900 || min:  0.831776  || max:  0.831776\n",
      "batch:  10000 || min:  0.187757  || max:  0.394964\n",
      "batch:  10100 || min:  0.0233768  || max:  0.0977473\n",
      "batch:  10200 || min:  0.138999  || max:  0.138999\n",
      "batch:  10300 || min:  0.134918  || max:  0.824503\n",
      "batch:  10400 || min:  0.00879249  || max:  0.0398887\n",
      "batch:  10500 || min:  0.0634893  || max:  0.0634893\n",
      "batch:  10600 || min:  0.361529  || max:  0.361529\n",
      "batch:  10700 || min:  0.805461  || max:  0.805461\n",
      "batch:  10800 || min:  0.00651578  || max:  0.0485989\n",
      "batch:  10900 || min:  0.000829387  || max:  0.0253861\n",
      "batch:  11000 || min:  1.0  || max:  1.0\n",
      "batch:  11100 || min:  1.0  || max:  1.0\n",
      "batch:  11200 || min:  0.15768  || max:  0.389294\n",
      "batch:  11300 || min:  0.902857  || max:  0.902857\n",
      "batch:  11400 || min:  0.723364  || max:  0.723364\n",
      "batch:  11500 || min:  0.115545  || max:  0.115545\n",
      "batch:  11600 || min:  0.00194432  || max:  0.00860717\n",
      "batch:  11700 || min:  0.19238  || max:  0.19238\n",
      "batch:  11800 || min:  0.0179749  || max:  0.121362\n",
      "batch:  11900 || min:  0.343784  || max:  0.343784\n",
      "batch:  12000 || min:  0.466906  || max:  0.466906\n",
      "batch:  12100 || min:  0.349115  || max:  0.349115\n",
      "batch:  12200 || min:  1.0  || max:  1.0\n",
      "batch:  12300 || min:  1.0  || max:  1.0\n",
      "batch:  12400 || min:  0.392598  || max:  0.392598\n",
      "batch:  12500 || min:  0.305519  || max:  0.305519\n",
      "batch:  12600 || min:  0.76087  || max:  0.76087\n",
      "batch:  12700 || min:  0.183547  || max:  0.189443\n",
      "batch:  12800 || min:  0.67509  || max:  0.67509\n",
      "batch:  12900 || min:  0.756404  || max:  0.756404\n",
      "batch:  13000 || min:  0.0750896  || max:  0.314808\n",
      "batch:  13100 || min:  0.0150391  || max:  0.0343496\n",
      "batch:  13200 || min:  0.422798  || max:  0.422798\n",
      "batch:  13300 || min:  1.0  || max:  1.0\n",
      "batch:  13400 || min:  0.0010027  || max:  0.173662\n",
      "batch:  13500 || min:  0.00429442  || max:  0.00429442\n",
      "batch:  13600 || min:  0.761265  || max:  0.761265\n",
      "batch:  13700 || min:  0.0928493  || max:  0.662651\n",
      "batch:  13800 || min:  0.55814  || max:  0.55814\n",
      "batch:  13900 || min:  0.74084  || max:  0.74084\n",
      "batch:  14000 || min:  0.00482995  || max:  0.00482995\n",
      "batch:  14100 || min:  0.212565  || max:  0.244783\n",
      "batch:  14200 || min:  0.218909  || max:  0.267661\n",
      "batch:  14300 || min:  1.0  || max:  1.0\n",
      "batch:  14400 || min:  0.901887  || max:  0.901887\n",
      "batch:  14500 || min:  0.0650661  || max:  0.0650661\n",
      "batch:  14600 || min:  0.00524504  || max:  0.204191\n",
      "batch:  14700 || min:  0.262711  || max:  0.262711\n",
      "batch:  14800 || min:  0.0813707  || max:  0.292864\n",
      "batch:  14900 || min:  0.0562815  || max:  0.0562815\n",
      "batch:  15000 || min:  0.0563486  || max:  0.19407\n",
      "batch:  15100 || min:  0.202752  || max:  0.238411\n",
      "batch:  15200 || min:  0.071608  || max:  0.475158\n",
      "batch:  15300 || min:  0.150453  || max:  0.150453\n",
      "batch:  15400 || min:  0.00732119  || max:  0.0390364\n",
      "batch:  15500 || min:  0.0972219  || max:  0.0972219\n",
      "batch:  15600 || min:  0.0792531  || max:  0.0792531\n",
      "batch:  15700 || min:  0.00471741  || max:  0.0893983\n",
      "batch:  15800 || min:  0.400943  || max:  0.400943\n",
      "batch:  15900 || min:  0.0755932  || max:  0.379842\n",
      "batch:  16000 || min:  0.139093  || max:  0.17015\n",
      "batch:  16100 || min:  0.111247  || max:  0.111247\n",
      "batch:  16200 || min:  0.859155  || max:  0.859155\n",
      "batch:  16300 || min:  0.185977  || max:  0.185977\n"
     ]
    },
    {
     "name": "stdout",
     "output_type": "stream",
     "text": [
      "batch:  16400 || min:  0.00277734  || max:  0.0410875\n",
      "batch:  16500 || min:  0.106231  || max:  0.266254\n",
      "Overall min:  3.55524e-05  || max:  1.0\n"
     ]
    }
   ],
   "source": [
    "func(data_loader)"
   ]
  }
 ],
 "metadata": {
  "kernelspec": {
   "display_name": "Python 3",
   "language": "python",
   "name": "python3"
  },
  "language_info": {
   "codemirror_mode": {
    "name": "ipython",
    "version": 3
   },
   "file_extension": ".py",
   "mimetype": "text/x-python",
   "name": "python",
   "nbconvert_exporter": "python",
   "pygments_lexer": "ipython3",
   "version": "3.6.2"
  }
 },
 "nbformat": 4,
 "nbformat_minor": 2
}
