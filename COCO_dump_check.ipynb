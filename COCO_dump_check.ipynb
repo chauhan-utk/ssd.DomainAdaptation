{
 "cells": [
  {
   "cell_type": "code",
   "execution_count": 1,
   "metadata": {
    "ExecuteTime": {
     "end_time": "2018-01-29T06:41:14.326040Z",
     "start_time": "2018-01-29T06:41:13.868335Z"
    },
    "collapsed": true
   },
   "outputs": [],
   "source": [
    "import torch\n",
    "from torch.autograd import Variable"
   ]
  },
  {
   "cell_type": "code",
   "execution_count": 2,
   "metadata": {
    "ExecuteTime": {
     "end_time": "2018-01-29T06:41:18.177707Z",
     "start_time": "2018-01-29T06:41:16.158429Z"
    },
    "collapsed": true
   },
   "outputs": [],
   "source": [
    "file = \"./MSCOCO14weights/fail_dump.pkl\"\n",
    "dump = None\n",
    "with open(file,\"rb\") as f:\n",
    "    dump = torch.load(f)"
   ]
  },
  {
   "cell_type": "code",
   "execution_count": 3,
   "metadata": {
    "ExecuteTime": {
     "end_time": "2018-01-29T06:41:19.290650Z",
     "start_time": "2018-01-29T06:41:19.269064Z"
    }
   },
   "outputs": [
    {
     "data": {
      "text/plain": [
       "dict_keys(['out', 'targets', 'loss_l', 'loss_c', 'loss_prev', 'loss'])"
      ]
     },
     "execution_count": 3,
     "metadata": {},
     "output_type": "execute_result"
    }
   ],
   "source": [
    "dump.keys()"
   ]
  },
  {
   "cell_type": "code",
   "execution_count": 4,
   "metadata": {
    "ExecuteTime": {
     "end_time": "2018-01-29T06:41:20.570721Z",
     "start_time": "2018-01-29T06:41:20.499548Z"
    }
   },
   "outputs": [
    {
     "name": "stdout",
     "output_type": "stream",
     "text": [
      "Variable containing:\n",
      "inf\n",
      "[torch.cuda.FloatTensor of size 1 (GPU 0)]\n",
      " Variable containing:\n",
      " 4.6497\n",
      "[torch.cuda.FloatTensor of size 1 (GPU 0)]\n",
      " \n",
      " 49.8024\n",
      "[torch.cuda.FloatTensor of size 1 (GPU 0)]\n",
      " Variable containing:\n",
      "inf\n",
      "[torch.cuda.FloatTensor of size 1 (GPU 0)]\n",
      "\n"
     ]
    }
   ],
   "source": [
    "print(dump['loss_l'], dump['loss_c'], dump['loss_prev'], dump['loss'])"
   ]
  },
  {
   "cell_type": "code",
   "execution_count": 15,
   "metadata": {
    "ExecuteTime": {
     "end_time": "2018-01-29T06:43:41.056463Z",
     "start_time": "2018-01-29T06:43:41.051560Z"
    }
   },
   "outputs": [
    {
     "name": "stdout",
     "output_type": "stream",
     "text": [
      "Variable containing:\n",
      "1.00000e-06 *\n",
      "  1.0646  1.7220  3.7288  7.8024  0.0000\n",
      "  0.4800  1.5675  1.6974  7.3224  0.0000\n",
      "  1.9942  2.2318  6.0793  7.2831  0.0000\n",
      "  0.0708  2.5566  0.6006  9.4607  0.0000\n",
      "[torch.cuda.FloatTensor of size 4x5 (GPU 0)]\n",
      "\n"
     ]
    }
   ],
   "source": [
    "print(dump['targets'][4])"
   ]
  },
  {
   "cell_type": "code",
   "execution_count": 17,
   "metadata": {
    "ExecuteTime": {
     "end_time": "2018-01-30T05:37:57.375614Z",
     "start_time": "2018-01-30T05:37:57.371435Z"
    }
   },
   "outputs": [],
   "source": [
    "boxes = dump['targets']"
   ]
  },
  {
   "cell_type": "code",
   "execution_count": 27,
   "metadata": {
    "ExecuteTime": {
     "end_time": "2018-01-30T05:44:00.413964Z",
     "start_time": "2018-01-30T05:44:00.410013Z"
    },
    "collapsed": true
   },
   "outputs": [],
   "source": [
    "import numpy as np"
   ]
  },
  {
   "cell_type": "code",
   "execution_count": 22,
   "metadata": {
    "ExecuteTime": {
     "end_time": "2018-01-30T05:39:29.916754Z",
     "start_time": "2018-01-30T05:39:29.782317Z"
    }
   },
   "outputs": [],
   "source": [
    "for i in range(len(boxes)):\n",
    "    boxes[i] = boxes[i].cpu().data.numpy()"
   ]
  },
  {
   "cell_type": "code",
   "execution_count": 37,
   "metadata": {
    "ExecuteTime": {
     "end_time": "2018-01-30T05:50:38.918796Z",
     "start_time": "2018-01-30T05:50:38.913658Z"
    }
   },
   "outputs": [],
   "source": [
    "tmp = np.concatenate([np.array(x) for x in boxes])"
   ]
  },
  {
   "cell_type": "code",
   "execution_count": 41,
   "metadata": {
    "ExecuteTime": {
     "end_time": "2018-01-30T05:52:13.551850Z",
     "start_time": "2018-01-30T05:52:13.542213Z"
    }
   },
   "outputs": [
    {
     "name": "stdout",
     "output_type": "stream",
     "text": [
      "0.0 5.68303e-06\n"
     ]
    }
   ],
   "source": [
    "xtmp = tmp[:,2]-tmp[:,0]\n",
    "ytmp = tmp[:,3]-tmp[:,1]\n",
    "area = xtmp*ytmp\n",
    "print(min(area), max(area))"
   ]
  },
  {
   "cell_type": "code",
   "execution_count": 28,
   "metadata": {
    "ExecuteTime": {
     "end_time": "2018-01-30T05:44:06.802792Z",
     "start_time": "2018-01-30T05:44:06.791663Z"
    }
   },
   "outputs": [],
   "source": [
    "def func(boxes):\n",
    "    boxes = np.concatenate([np.array(x) for x in boxes])\n",
    "    xtmp = boxes[:,2]-boxes[:,0]\n",
    "    ytmp = boxes[:,3]-boxes[:,1]\n",
    "    area = xtmp*ytmp\n",
    "    print(min(area), max(area))"
   ]
  },
  {
   "cell_type": "code",
   "execution_count": 29,
   "metadata": {
    "ExecuteTime": {
     "end_time": "2018-01-30T05:44:07.911121Z",
     "start_time": "2018-01-30T05:44:07.891577Z"
    }
   },
   "outputs": [
    {
     "ename": "IndexError",
     "evalue": "too many indices for array",
     "output_type": "error",
     "traceback": [
      "\u001b[0;31m---------------------------------------------------------------------------\u001b[0m",
      "\u001b[0;31mIndexError\u001b[0m                                Traceback (most recent call last)",
      "\u001b[0;32m<ipython-input-29-37ec3195a719>\u001b[0m in \u001b[0;36m<module>\u001b[0;34m()\u001b[0m\n\u001b[0;32m----> 1\u001b[0;31m \u001b[0mfunc\u001b[0m\u001b[0;34m(\u001b[0m\u001b[0mboxes\u001b[0m\u001b[0;34m)\u001b[0m\u001b[0;34m\u001b[0m\u001b[0m\n\u001b[0m",
      "\u001b[0;32m<ipython-input-28-c17f439fdc98>\u001b[0m in \u001b[0;36mfunc\u001b[0;34m(boxes)\u001b[0m\n\u001b[1;32m      1\u001b[0m \u001b[0;32mdef\u001b[0m \u001b[0mfunc\u001b[0m\u001b[0;34m(\u001b[0m\u001b[0mboxes\u001b[0m\u001b[0;34m)\u001b[0m\u001b[0;34m:\u001b[0m\u001b[0;34m\u001b[0m\u001b[0m\n\u001b[1;32m      2\u001b[0m     \u001b[0mboxes\u001b[0m \u001b[0;34m=\u001b[0m \u001b[0mnp\u001b[0m\u001b[0;34m.\u001b[0m\u001b[0marray\u001b[0m\u001b[0;34m(\u001b[0m\u001b[0mboxes\u001b[0m\u001b[0;34m)\u001b[0m\u001b[0;34m\u001b[0m\u001b[0m\n\u001b[0;32m----> 3\u001b[0;31m     \u001b[0mxtmp\u001b[0m \u001b[0;34m=\u001b[0m \u001b[0mboxes\u001b[0m\u001b[0;34m[\u001b[0m\u001b[0;34m:\u001b[0m\u001b[0;34m,\u001b[0m\u001b[0;36m2\u001b[0m\u001b[0;34m]\u001b[0m\u001b[0;34m-\u001b[0m\u001b[0mboxes\u001b[0m\u001b[0;34m[\u001b[0m\u001b[0;34m:\u001b[0m\u001b[0;34m,\u001b[0m\u001b[0;36m0\u001b[0m\u001b[0;34m]\u001b[0m\u001b[0;34m\u001b[0m\u001b[0m\n\u001b[0m\u001b[1;32m      4\u001b[0m     \u001b[0mytmp\u001b[0m \u001b[0;34m=\u001b[0m \u001b[0mboxes\u001b[0m\u001b[0;34m[\u001b[0m\u001b[0;34m:\u001b[0m\u001b[0;34m,\u001b[0m\u001b[0;36m3\u001b[0m\u001b[0;34m]\u001b[0m\u001b[0;34m-\u001b[0m\u001b[0mboxes\u001b[0m\u001b[0;34m[\u001b[0m\u001b[0;34m:\u001b[0m\u001b[0;34m,\u001b[0m\u001b[0;36m1\u001b[0m\u001b[0;34m]\u001b[0m\u001b[0;34m\u001b[0m\u001b[0m\n\u001b[1;32m      5\u001b[0m     \u001b[0marea\u001b[0m \u001b[0;34m=\u001b[0m \u001b[0mxtmp\u001b[0m\u001b[0;34m*\u001b[0m\u001b[0mytmp\u001b[0m\u001b[0;34m\u001b[0m\u001b[0m\n",
      "\u001b[0;31mIndexError\u001b[0m: too many indices for array"
     ]
    }
   ],
   "source": [
    "func(boxes)"
   ]
  }
 ],
 "metadata": {
  "kernelspec": {
   "display_name": "Python 3",
   "language": "python",
   "name": "python3"
  },
  "language_info": {
   "codemirror_mode": {
    "name": "ipython",
    "version": 3
   },
   "file_extension": ".py",
   "mimetype": "text/x-python",
   "name": "python",
   "nbconvert_exporter": "python",
   "pygments_lexer": "ipython3",
   "version": "3.6.2"
  }
 },
 "nbformat": 4,
 "nbformat_minor": 2
}
