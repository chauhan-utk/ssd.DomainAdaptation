{
 "cells": [
  {
   "cell_type": "code",
   "execution_count": 1,
   "metadata": {
    "ExecuteTime": {
     "end_time": "2018-01-12T11:06:52.715082Z",
     "start_time": "2018-01-12T11:06:52.711926Z"
    },
    "collapsed": true
   },
   "outputs": [],
   "source": [
    "import os\n",
    "import os.path\n",
    "import sys"
   ]
  },
  {
   "cell_type": "code",
   "execution_count": 2,
   "metadata": {
    "ExecuteTime": {
     "end_time": "2018-01-12T11:06:54.107213Z",
     "start_time": "2018-01-12T11:06:54.099542Z"
    },
    "collapsed": true
   },
   "outputs": [],
   "source": [
    "import json"
   ]
  },
  {
   "cell_type": "code",
   "execution_count": 3,
   "metadata": {
    "ExecuteTime": {
     "end_time": "2018-01-12T11:06:55.104713Z",
     "start_time": "2018-01-12T11:06:55.096366Z"
    },
    "code_folding": [],
    "collapsed": true
   },
   "outputs": [],
   "source": [
    "VOC_CLASSES = (  # always index 0\n",
    "    'aeroplane', 'bicycle', 'bird', 'boat',\n",
    "    'bottle', 'bus', 'car', 'cat', 'chair',\n",
    "    'cow', 'diningtable', 'dog', 'horse',\n",
    "    'motorbike', 'person', 'pottedplant',\n",
    "    'sheep', 'sofa', 'train', 'tvmonitor')\n",
    "\n",
    "COMMON_CLASSES = ('person', 'bicycle', 'car',\n",
    "                  'bus', 'train', 'boat',\n",
    "                   'bird', 'cat', 'dog',\n",
    "                   'horse', 'sheep', 'cow',\n",
    "                   'bottle', 'chair')"
   ]
  },
  {
   "cell_type": "code",
   "execution_count": 8,
   "metadata": {
    "ExecuteTime": {
     "end_time": "2018-01-12T11:08:01.885183Z",
     "start_time": "2018-01-12T11:08:01.877843Z"
    },
    "collapsed": true
   },
   "outputs": [],
   "source": [
    "annotation_train = \"/new_data/gpu/utkrsh/coco/annotations/instances_train2014.json\""
   ]
  },
  {
   "cell_type": "code",
   "execution_count": 9,
   "metadata": {
    "ExecuteTime": {
     "end_time": "2018-01-12T11:08:17.615426Z",
     "start_time": "2018-01-12T11:08:03.342206Z"
    }
   },
   "outputs": [],
   "source": [
    "data = json.load(open(annotation_train))"
   ]
  },
  {
   "cell_type": "code",
   "execution_count": 10,
   "metadata": {
    "ExecuteTime": {
     "end_time": "2018-01-12T11:08:38.136975Z",
     "start_time": "2018-01-12T11:08:38.122719Z"
    }
   },
   "outputs": [
    {
     "data": {
      "text/plain": [
       "dict_keys(['info', 'images', 'licenses', 'annotations', 'categories'])"
      ]
     },
     "execution_count": 10,
     "metadata": {},
     "output_type": "execute_result"
    }
   ],
   "source": [
    "data.keys()"
   ]
  },
  {
   "cell_type": "code",
   "execution_count": 11,
   "metadata": {
    "ExecuteTime": {
     "end_time": "2018-01-12T11:08:42.389356Z",
     "start_time": "2018-01-12T11:08:42.386618Z"
    },
    "collapsed": true
   },
   "outputs": [],
   "source": [
    "data_img = data['images']"
   ]
  },
  {
   "cell_type": "markdown",
   "metadata": {},
   "source": [
    "Create class to id dictionary"
   ]
  },
  {
   "cell_type": "code",
   "execution_count": 12,
   "metadata": {
    "ExecuteTime": {
     "end_time": "2018-01-12T11:08:46.502633Z",
     "start_time": "2018-01-12T11:08:46.495298Z"
    },
    "collapsed": true
   },
   "outputs": [],
   "source": [
    "cat = data['categories'] #list of categories - 80 categories\n",
    "COCO_COMMONCLS_ID = {}\n",
    "COCO_ID_COMMONCLS = {}\n",
    "for i in cat:\n",
    "    if i['name'] in COMMON_CLASSES:\n",
    "        COCO_COMMONCLS_ID[i['name']]=i['id']\n",
    "        COCO_ID_COMMONCLS[i['id']]=i['name']"
   ]
  },
  {
   "cell_type": "code",
   "execution_count": 13,
   "metadata": {
    "ExecuteTime": {
     "end_time": "2018-01-12T11:08:50.195896Z",
     "start_time": "2018-01-12T11:08:50.191423Z"
    }
   },
   "outputs": [
    {
     "name": "stdout",
     "output_type": "stream",
     "text": [
      "{'person': 1, 'bicycle': 2, 'car': 3, 'bus': 6, 'train': 7, 'boat': 9, 'bird': 16, 'cat': 17, 'dog': 18, 'horse': 19, 'sheep': 20, 'cow': 21, 'bottle': 44, 'chair': 62} {1: 'person', 2: 'bicycle', 3: 'car', 6: 'bus', 7: 'train', 9: 'boat', 16: 'bird', 17: 'cat', 18: 'dog', 19: 'horse', 20: 'sheep', 21: 'cow', 44: 'bottle', 62: 'chair'}\n"
     ]
    }
   ],
   "source": [
    "print(COCO_COMMONCLS_ID, COCO_ID_COMMONCLS)"
   ]
  },
  {
   "cell_type": "code",
   "execution_count": 15,
   "metadata": {
    "ExecuteTime": {
     "end_time": "2018-01-12T11:09:06.264973Z",
     "start_time": "2018-01-12T11:09:06.262274Z"
    },
    "collapsed": true
   },
   "outputs": [],
   "source": [
    "data1 = data['annotations']"
   ]
  },
  {
   "cell_type": "code",
   "execution_count": 16,
   "metadata": {
    "ExecuteTime": {
     "end_time": "2018-01-12T11:09:08.878293Z",
     "start_time": "2018-01-12T11:09:08.875573Z"
    },
    "collapsed": true
   },
   "outputs": [],
   "source": [
    "smpl = data1[2342]"
   ]
  },
  {
   "cell_type": "code",
   "execution_count": 17,
   "metadata": {
    "ExecuteTime": {
     "end_time": "2018-01-12T11:09:13.449330Z",
     "start_time": "2018-01-12T11:09:13.436585Z"
    },
    "collapsed": true
   },
   "outputs": [
    {
     "data": {
      "text/plain": [
       "{'area': 18482.639249999997,\n",
       " 'bbox': [78.19, 93.7, 175.27, 215.03],\n",
       " 'category_id': 18,\n",
       " 'id': 12353,\n",
       " 'image_id': 120518,\n",
       " 'iscrowd': 0,\n",
       " 'segmentation': [[104.48,\n",
       "   307.38,\n",
       "   78.19,\n",
       "   308.73,\n",
       "   79.54,\n",
       "   295.93,\n",
       "   95.05,\n",
       "   289.18,\n",
       "   97.07,\n",
       "   233.91,\n",
       "   90.33,\n",
       "   170.54,\n",
       "   92.35,\n",
       "   119.31,\n",
       "   105.83,\n",
       "   93.7,\n",
       "   132.12,\n",
       "   95.72,\n",
       "   149.65,\n",
       "   102.46,\n",
       "   154.37,\n",
       "   124.03,\n",
       "   158.41,\n",
       "   158.41,\n",
       "   188.07,\n",
       "   221.1,\n",
       "   220.43,\n",
       "   253.46,\n",
       "   217.06,\n",
       "   263.57,\n",
       "   217.06,\n",
       "   269.64,\n",
       "   241.32,\n",
       "   266.94,\n",
       "   253.46,\n",
       "   268.29,\n",
       "   243.35,\n",
       "   287.16,\n",
       "   227.17,\n",
       "   291.21,\n",
       "   192.12,\n",
       "   295.25,\n",
       "   177.29,\n",
       "   296.6,\n",
       "   162.46,\n",
       "   296.6,\n",
       "   136.84,\n",
       "   304.01,\n",
       "   130.1,\n",
       "   304.69,\n",
       "   134.82,\n",
       "   288.51,\n",
       "   115.94,\n",
       "   287.84]]}"
      ]
     },
     "execution_count": 17,
     "metadata": {},
     "output_type": "execute_result"
    }
   ],
   "source": [
    "smpl"
   ]
  },
  {
   "cell_type": "code",
   "execution_count": 18,
   "metadata": {
    "ExecuteTime": {
     "end_time": "2018-01-12T11:09:28.500107Z",
     "start_time": "2018-01-12T11:09:27.467684Z"
    },
    "collapsed": true
   },
   "outputs": [],
   "source": [
    "import cv2\n",
    "\n",
    "%matplotlib inline\n",
    "from matplotlib import pyplot as plt"
   ]
  },
  {
   "cell_type": "code",
   "execution_count": 19,
   "metadata": {
    "ExecuteTime": {
     "end_time": "2018-01-12T11:09:34.223190Z",
     "start_time": "2018-01-12T11:09:34.219449Z"
    }
   },
   "outputs": [
    {
     "name": "stdout",
     "output_type": "stream",
     "text": [
      "dict_keys(['segmentation', 'area', 'iscrowd', 'image_id', 'bbox', 'category_id', 'id'])\n"
     ]
    }
   ],
   "source": [
    "print(smpl.keys()); smplbbox = smpl['bbox'];"
   ]
  },
  {
   "cell_type": "code",
   "execution_count": 20,
   "metadata": {
    "ExecuteTime": {
     "end_time": "2018-01-12T11:09:39.723851Z",
     "start_time": "2018-01-12T11:09:39.719453Z"
    }
   },
   "outputs": [
    {
     "data": {
      "text/plain": [
       "120518"
      ]
     },
     "execution_count": 20,
     "metadata": {},
     "output_type": "execute_result"
    }
   ],
   "source": [
    "smpl['image_id']"
   ]
  },
  {
   "cell_type": "code",
   "execution_count": 21,
   "metadata": {
    "ExecuteTime": {
     "end_time": "2018-01-12T11:09:42.076866Z",
     "start_time": "2018-01-12T11:09:42.066216Z"
    }
   },
   "outputs": [
    {
     "data": {
      "text/plain": [
       "{'coco_url': 'http://images.cocodataset.org/train2014/COCO_train2014_000000057870.jpg',\n",
       " 'date_captured': '2013-11-14 16:28:13',\n",
       " 'file_name': 'COCO_train2014_000000057870.jpg',\n",
       " 'flickr_url': 'http://farm4.staticflickr.com/3153/2970773875_164f0c0b83_z.jpg',\n",
       " 'height': 480,\n",
       " 'id': 57870,\n",
       " 'license': 5,\n",
       " 'width': 640}"
      ]
     },
     "execution_count": 21,
     "metadata": {},
     "output_type": "execute_result"
    }
   ],
   "source": [
    "data_img[0]"
   ]
  },
  {
   "cell_type": "code",
   "execution_count": 22,
   "metadata": {
    "ExecuteTime": {
     "end_time": "2018-01-12T11:11:43.787648Z",
     "start_time": "2018-01-12T11:11:43.747592Z"
    },
    "collapsed": true
   },
   "outputs": [],
   "source": [
    "smpl_data = {}\n",
    "for i in data_img:\n",
    "    if i['id']==smpl['image_id']:\n",
    "        smpl_data = i"
   ]
  },
  {
   "cell_type": "code",
   "execution_count": 23,
   "metadata": {
    "ExecuteTime": {
     "end_time": "2018-01-12T11:11:45.891301Z",
     "start_time": "2018-01-12T11:11:45.888678Z"
    }
   },
   "outputs": [],
   "source": [
    "img_path = \"/new_data/gpu/utkrsh/MSCOCO/train2014/\"\n",
    "smpl_img_file = img_path+smpl_data['file_name']"
   ]
  },
  {
   "cell_type": "markdown",
   "metadata": {},
   "source": [
    "Image with bounding box should appear"
   ]
  },
  {
   "cell_type": "code",
   "execution_count": 25,
   "metadata": {
    "ExecuteTime": {
     "end_time": "2018-01-12T11:12:04.518882Z",
     "start_time": "2018-01-12T11:12:04.516019Z"
    },
    "collapsed": true
   },
   "outputs": [],
   "source": [
    "import numpy as np"
   ]
  },
  {
   "cell_type": "code",
   "execution_count": 26,
   "metadata": {
    "ExecuteTime": {
     "end_time": "2018-01-12T11:12:05.610747Z",
     "start_time": "2018-01-12T11:12:05.580151Z"
    }
   },
   "outputs": [
    {
     "ename": "error",
     "evalue": "/io/opencv/modules/imgproc/src/color.cpp:9716: error: (-215) scn == 3 || scn == 4 in function cvtColor\n",
     "output_type": "error",
     "traceback": [
      "\u001b[0;31m---------------------------------------------------------------------------\u001b[0m",
      "\u001b[0;31merror\u001b[0m                                     Traceback (most recent call last)",
      "\u001b[0;32m<ipython-input-26-c3b3974a953f>\u001b[0m in \u001b[0;36m<module>\u001b[0;34m()\u001b[0m\n\u001b[1;32m      1\u001b[0m \u001b[0mimage\u001b[0m \u001b[0;34m=\u001b[0m \u001b[0mcv2\u001b[0m\u001b[0;34m.\u001b[0m\u001b[0mimread\u001b[0m\u001b[0;34m(\u001b[0m\u001b[0msmpl_img_file\u001b[0m\u001b[0;34m,\u001b[0m \u001b[0mcv2\u001b[0m\u001b[0;34m.\u001b[0m\u001b[0mIMREAD_COLOR\u001b[0m\u001b[0;34m)\u001b[0m\u001b[0;34m\u001b[0m\u001b[0m\n\u001b[1;32m      2\u001b[0m \u001b[0mcolors\u001b[0m \u001b[0;34m=\u001b[0m \u001b[0mplt\u001b[0m\u001b[0;34m.\u001b[0m\u001b[0mcm\u001b[0m\u001b[0;34m.\u001b[0m\u001b[0mhsv\u001b[0m\u001b[0;34m(\u001b[0m\u001b[0mnp\u001b[0m\u001b[0;34m.\u001b[0m\u001b[0mlinspace\u001b[0m\u001b[0;34m(\u001b[0m\u001b[0;36m0\u001b[0m\u001b[0;34m,\u001b[0m \u001b[0;36m1\u001b[0m\u001b[0;34m,\u001b[0m \u001b[0;36m21\u001b[0m\u001b[0;34m)\u001b[0m\u001b[0;34m)\u001b[0m\u001b[0;34m.\u001b[0m\u001b[0mtolist\u001b[0m\u001b[0;34m(\u001b[0m\u001b[0;34m)\u001b[0m\u001b[0;34m\u001b[0m\u001b[0m\n\u001b[0;32m----> 3\u001b[0;31m \u001b[0mrgb_image\u001b[0m \u001b[0;34m=\u001b[0m \u001b[0mcv2\u001b[0m\u001b[0;34m.\u001b[0m\u001b[0mcvtColor\u001b[0m\u001b[0;34m(\u001b[0m\u001b[0mimage\u001b[0m\u001b[0;34m,\u001b[0m \u001b[0mcv2\u001b[0m\u001b[0;34m.\u001b[0m\u001b[0mCOLOR_BGR2RGB\u001b[0m\u001b[0;34m)\u001b[0m\u001b[0;34m\u001b[0m\u001b[0m\n\u001b[0m\u001b[1;32m      4\u001b[0m \u001b[0mplt\u001b[0m\u001b[0;34m.\u001b[0m\u001b[0mfigure\u001b[0m\u001b[0;34m(\u001b[0m\u001b[0mfigsize\u001b[0m\u001b[0;34m=\u001b[0m\u001b[0;34m(\u001b[0m\u001b[0;36m10\u001b[0m\u001b[0;34m,\u001b[0m\u001b[0;36m10\u001b[0m\u001b[0;34m)\u001b[0m\u001b[0;34m)\u001b[0m\u001b[0;34m\u001b[0m\u001b[0m\n\u001b[1;32m      5\u001b[0m \u001b[0mplt\u001b[0m\u001b[0;34m.\u001b[0m\u001b[0mimshow\u001b[0m\u001b[0;34m(\u001b[0m\u001b[0mrgb_image\u001b[0m\u001b[0;34m)\u001b[0m\u001b[0;34m\u001b[0m\u001b[0m\n",
      "\u001b[0;31merror\u001b[0m: /io/opencv/modules/imgproc/src/color.cpp:9716: error: (-215) scn == 3 || scn == 4 in function cvtColor\n"
     ]
    }
   ],
   "source": [
    "image = cv2.imread(smpl_img_file, cv2.IMREAD_COLOR)\n",
    "colors = plt.cm.hsv(np.linspace(0, 1, 21)).tolist()\n",
    "rgb_image = cv2.cvtColor(image, cv2.COLOR_BGR2RGB)\n",
    "plt.figure(figsize=(10,10))\n",
    "plt.imshow(rgb_image)\n",
    "cd = smpl['bbox']\n",
    "\n",
    "currentAxis = plt.gca()\n",
    "currentAxis.add_patch(plt.Rectangle((cd[0],cd[1]),cd[2],cd[3],\n",
    "                                        fill=False, edgecolor=colors[15], linewidth=2))\n",
    "    \n",
    "plt.show()"
   ]
  },
  {
   "cell_type": "code",
   "execution_count": null,
   "metadata": {
    "collapsed": true
   },
   "outputs": [],
   "source": []
  }
 ],
 "metadata": {
  "kernelspec": {
   "display_name": "Python 3",
   "language": "python",
   "name": "python3"
  },
  "language_info": {
   "codemirror_mode": {
    "name": "ipython",
    "version": 3
   },
   "file_extension": ".py",
   "mimetype": "text/x-python",
   "name": "python",
   "nbconvert_exporter": "python",
   "pygments_lexer": "ipython3",
   "version": "3.6.2"
  }
 },
 "nbformat": 4,
 "nbformat_minor": 2
}
